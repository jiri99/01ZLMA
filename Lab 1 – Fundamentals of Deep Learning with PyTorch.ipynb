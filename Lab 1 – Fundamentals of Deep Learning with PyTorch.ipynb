{
  "nbformat": 4,
  "nbformat_minor": 0,
  "metadata": {
    "kernelspec": {
      "display_name": "Python 3",
      "language": "python",
      "name": "python3"
    },
    "language_info": {
      "codemirror_mode": {
        "name": "ipython",
        "version": 3
      },
      "file_extension": ".py",
      "mimetype": "text/x-python",
      "name": "python",
      "nbconvert_exporter": "python",
      "pygments_lexer": "ipython3",
      "version": "3.7.9"
    },
    "colab": {
      "name": "Lab 1 – Fundamentals of Deep Learning with PyTorch.ipynb",
      "provenance": [],
      "toc_visible": true
    },
    "accelerator": "GPU"
  },
  "cells": [
    {
      "cell_type": "markdown",
      "metadata": {
        "id": "d22yApIkvKr8"
      },
      "source": [
        "![Header Lab 1](https://su2.utia.cas.cz/files/labs/23-201/header.png)\n",
        "\n",
        "In this lab, we delve into the core concepts of deep learning using the PyTorch library. Initially, we start by exploring linear regression models using Python's Numpy library to establish a foundational understanding. Gradually, we transition these concepts into the PyTorch framework, introducing topics such as tensors, backpropagation, and automatic differentiation. Participants will learn about optimization techniques, data loading, and validation. They will also gain experience with saving and loading models in PyTorch. Additionally, we will touch on the practical application of Weights & Biases, a tool for tracking and visualizing models and experiments, contributing to a more in-depth comprehension of deep learning principles.\n",
        "\n",
        "**Course website:** [ml2.utia.cas.cz/labs.html](https://su2.utia.cas.cz/labs.html)"
      ]
    },
    {
      "cell_type": "markdown",
      "metadata": {
        "id": "GGimqWi--Joj"
      },
      "source": [
        "## Schedule\n",
        "Lab 0 – Introduction to Python and Basic Machine Learning\n",
        "\n",
        "*Lab 1 – Fundamentals of Deep Learning with PyTorch*\n",
        "\n",
        "Lab 2 – Image Classification, Transfer Learning, and Object Detection\n",
        "\n",
        "Lab 3 – Image Processing with Deep Learning\n",
        "\n",
        "Lab 4 – Sequence Models and NLP\n",
        "\n",
        "Lab 5 – Advanced Vision and Generative Models\n",
        "\n",
        "Lab 6 – Project Presentation\n",
        "\n",
        "**Attendance:**\n",
        "\n",
        "Absences are limited to 20% of the total sessions, i.e., only one lab from Labs 1-5 can be missed. Note that Lab 0 is voluntary and not included in the absence count. Attendance for Lab 6, the Project Presentation, is mandatory for all students who wish to pass the course.\n",
        "<br /><br />\n",
        "Attendance consist of:\n",
        "1.   Being present during the Lab session\n",
        "2.   Completing all exercises (✍🏼)\n",
        "3.   Saving changes to GitHub within 7 days of each Lab session\n",
        "\n",
        "\n"
      ]
    },
    {
      "cell_type": "markdown",
      "metadata": {
        "id": "TKHikDB5-0Ga"
      },
      "source": [
        "## Final assessment and class competition\n",
        "\n",
        "Students will work on machine learning projects (in groups of 2) to demonstrate their programming and deep learning skills mastered throughout the course. During the final labs, a class competition will be held and students will present projects in front of a committee. The winning team will be eligible for prize.\n",
        "  \n",
        "<strong>Instruction, evaluation and other info:</strong>\n",
        "<a href=\"https://su2.utia.cas.cz/labs.html#projects\">https://su2.utia.cas.cz/labs.html#projects</a>\n",
        "                       "
      ]
    },
    {
      "cell_type": "markdown",
      "metadata": {
        "id": "Wa9bzcNEcNe0"
      },
      "source": [
        "### ✍🏼 Excercise 1\n",
        "\n"
      ]
    },
    {
      "cell_type": "markdown",
      "metadata": {
        "id": "ZSP6uWen-YYM"
      },
      "source": [
        "*Form groups of two and accept the group assignment called \"Final projects\".*\n",
        "\n",
        "*Instructions:*\n",
        "\n",
        "1.   [*Go to the group assignement invitation link >>*](https://classroom.github.com/a/8Rx_0qAA)\n",
        "2.   *Create a new team or join an available team.*\n",
        "3.   *In the README file, please write down the topic of your project.*\n",
        "\n",
        "*Reminder*\n",
        "*   *Do not miss [deadline](https://su2.utia.cas.cz/labs.html#projects) for uploading your implementation and documentation of your final project.*\n",
        "*   *Include working demo in Colab, in which you clearly demonstrate your results. Please refer to the Implementation section on the [labs website](https://su2.utia.cas.cz/labs.html#projects).*\n",
        "*   *Do not upload huge datasets to GitHub repository.*\n",
        "\n"
      ]
    },
    {
      "cell_type": "markdown",
      "source": [
        "## Learning Approach: Embracing AI Tools and Collaborative Learning\n",
        "\n",
        "<img src=\"https://su2.utia.cas.cz/files/labs/23-201/aihuman.png\"\n",
        " align=\"left\">\n",
        "\n",
        "> As we delve into the world of machine learning, we recognize that technology and innovation are at the heart of this field. We've decided to fully embrace AI tools, such as ChatGPT, as a part of our learning and discovery process.\n",
        ">\n",
        "> ChatGPT can serve as an interactive learning companion that can help you with learning new concepts, coding, debugging, brainstorming ideas, and much more. In addition, it is designed to facilitate creative and critical thinking by providing a different perspective on the problem at hand.\n",
        ">\n",
        "> **You are strongly encouraged to use** this tool to enhance your learning experience, work more efficiently, and foster a deeper understanding of the subject matter. However, it's important to remember that the use of AI tools, while transformative, does not replace your own critical thinking and problem-solving skills.\n",
        ">\n",
        "> Collaboration is a key aspect of problem-solving and learning. **You are welcome, and indeed encouraged, to cooperate** and inspire each other as well as draw insights from external resources such as blogs, academic papers, online forums, and more.\n",
        ">\n",
        "> While **you are free to use** code snippets from any of these resources, do keep in mind that the ultimate goal is to learn and apply machine learning concepts. Hence, **you are required to fully understand** and be able to explain any code that you use in your assignments and projects.\n",
        ">\n",
        "> This is a paradigm shift from the traditional way of evaluating your learning. We won't be policing you for plagiarism or cheating - instead, we believe that **you are the best judge of your own learning**. What truly matters to us is your ability to assimilate these concepts and apply them in real-world situations.\n",
        ">\n",
        "> Your final project will be a reflection of your learning throughout the course. **We have raised our expectations** for these projects and will be looking at not just your technical prowess, but also your **creativity, critical thinking, and problem-solving** abilities. This culminates in a professional [Colab notebook demonstration](https://su2.utia.cas.cz/labs.html#projects) and an impactful verbal/visual presentation, which should be a polished reflection of your journey, showcasing your cumulative knowledge and understanding.\n",
        ">\n",
        "> Our hope is that this approach will provide you with a dynamic and enriching learning experience. **Enjoy the journey!**"
      ],
      "metadata": {
        "id": "y3Zbteq_Jkmz"
      }
    },
    {
      "cell_type": "markdown",
      "metadata": {
        "id": "RtORpoGD5bp5"
      },
      "source": [
        "# Part 1: Python revisited"
      ]
    },
    {
      "cell_type": "markdown",
      "metadata": {
        "id": "x4AvY0Auo3c3"
      },
      "source": [
        "### Example 1: Function of attendence"
      ]
    },
    {
      "cell_type": "code",
      "metadata": {
        "id": "omL94BLiCVay",
        "colab": {
          "base_uri": "https://localhost:8080/"
        },
        "outputId": "74bc11ad-fd86-4f04-f52f-cdd3c5da3024"
      },
      "source": [
        "# Variable assignement\n",
        "student = 'Tomas'\n",
        "attendence_list = [1, 1, 1, 0, 1]\n",
        "final_project = False\n",
        "\n",
        "# Function\n",
        "def assessment(student, attendence_list, final_project):\n",
        "    sum_attendence = 0\n",
        "    # Loops\n",
        "    for i in attendence_list:\n",
        "        sum_attendence = sum_attendence + i\n",
        "\n",
        "    attendence = sum_attendence/len(attendence_list)*100\n",
        "    absence = 100-attendence\n",
        "\n",
        "    # Conditions\n",
        "    if attendence >= 80:\n",
        "        if final_project:\n",
        "            # f-strings\n",
        "            print(f\"Student {student} obtained a course credit!\")\n",
        "        else:\n",
        "            print(f\"Student {student} failed - no final project presented!\")\n",
        "    else:\n",
        "        print(f\"Student {student} failed - absence {absence:.0f}% > 20%!\")\n",
        "\n",
        "# Call the function\n",
        "assessment(student, attendence_list, final_project)"
      ],
      "execution_count": 1,
      "outputs": [
        {
          "output_type": "stream",
          "name": "stdout",
          "text": [
            "Student Tomas failed - no final project presented!\n"
          ]
        }
      ]
    },
    {
      "cell_type": "markdown",
      "metadata": {
        "id": "sTbIITe2ozPb"
      },
      "source": [
        "### Example 2: Linear regression with S&P 500\n",
        "\n",
        "**S&P 500**, is a stock market index that tracks 500 large companies listed on stock exchanges in the United States.\n",
        "\n",
        "<img src=\"https://su2.utia.cas.cz/files/labs/23-201/sap500.jpg\">\n",
        "\n",
        "\n",
        "**Linear regression** is a model that assumes a **linear relationship** between the input variables (x) and the single output variable (y).\n",
        "\n",
        "<a href=\"http://media5.datahacker.rs/2021/01/151-1.jpg\"><img src=\"https://su2.utia.cas.cz/files/labs/23-201/lin_reg_intro.jpg\"></a>\n",
        "\n"
      ]
    },
    {
      "cell_type": "code",
      "metadata": {
        "colab": {
          "base_uri": "https://localhost:8080/",
          "height": 430
        },
        "id": "oReQFnJd7sXL",
        "outputId": "4d720008-785f-4e8c-9739-7a83c690a5c3"
      },
      "source": [
        "import numpy as np\n",
        "import matplotlib.pyplot as plt\n",
        "from sklearn.linear_model import LinearRegression\n",
        "\n",
        "# Dataset\n",
        "x_month = np.arange(1,21)\n",
        "y_SAP500_index = np.array([[3214], [2855], [2191], [2447], [2766], [2965],\n",
        "                    [3101], [3284], [3209], [3233], [3279],\n",
        "                    [3633], [3662], [3725], [3723], [3992], [4056], [4164], [4289], [4322]])\n",
        "\n",
        "# Plot the graph\n",
        "plt.plot(x_month, y_SAP500_index, 'ro', label='Original S&P 500')\n",
        "plt.legend()\n",
        "plt.show()"
      ],
      "execution_count": 2,
      "outputs": [
        {
          "output_type": "display_data",
          "data": {
            "text/plain": [
              "<Figure size 640x480 with 1 Axes>"
            ],
            "image/png": "[encoded data removed]"
          },
          "metadata": {}
        }
      ]
    },
    {
      "cell_type": "code",
      "metadata": {
        "id": "VrTFefvyfQjo",
        "colab": {
          "base_uri": "https://localhost:8080/",
          "height": 430
        },
        "outputId": "b9fd5540-4874-40fc-b5e4-6a46352d8a81"
      },
      "source": [
        "linr = LinearRegression()\n",
        "linr.fit(x_month.reshape(-1,1), y_SAP500_index)\n",
        "y_predicted = linr.coef_[0]*x_month + linr.intercept_\n",
        "plt.plot(x_month, y_SAP500_index, 'ro', label='Original S&P 500')\n",
        "plt.plot(x_month, y_predicted, 'k--', label='Predicted S&P 500')\n",
        "plt.legend()\n",
        "plt.show()"
      ],
      "execution_count": 3,
      "outputs": [
        {
          "output_type": "display_data",
          "data": {
            "text/plain": [
              "<Figure size 640x480 with 1 Axes>"
            ],
            "image/png": "[encoded data removed]"
          },
          "metadata": {}
        }
      ]
    },
    {
      "cell_type": "markdown",
      "metadata": {
        "id": "naV3zW8W1SwZ"
      },
      "source": [
        "## ✍🏼 Excercise 2\n",
        "\n",
        "There are thousands of really good websites on the internet which are useful for AI/ML/DL development, such as:\n",
        "\n",
        "**Programming and ML/DL Libraries**\n",
        "\n",
        "[GitHub](https://github.com/)\n",
        "[Colab](https://colab.research.google.com/)\n",
        "[PyTorch](https://pytorch.org/)\n",
        "[PyTorch Lightning](https://lightning.ai/pages/open-source/)\n",
        "[Keras](https://keras.io/)\n",
        "[TensorFlow](https://www.tensorflow.org/)\n",
        "[MXNet](https://mxnet.apache.org/versions/1.7.0/)\n",
        "[OpenCV](https://opencv.org/)\n",
        "[dlib](http://dlib.net/)\n",
        "[ONNX](https://onnx.ai/)\n",
        "[OpenVino](https://docs.openvino.ai/latest/index.html)\n",
        "[SciPy](https://www.scipy.org/)\n",
        "[pandas](https://pandas.pydata.org/)\n",
        "[numpy](https://numpy.org/)\n",
        "[matplotlib](https://matplotlib.org/)\n",
        "[plotly](https://plotly.com/)\n",
        "[seaborn](https://seaborn.pydata.org/)\n",
        "[bokeh](https://bokeh.org/)\n",
        "[fast.ai](https://www.fast.ai/)\n",
        "[scikit-learn](https://scikit-learn.org/stable/)\n",
        "[scikit-image](https://scikit-image.org/)\n",
        "[Hugging Face](https://huggingface.co/)\n",
        "[Codewars](https://www.codewars.com/)\n",
        "[Codecademy](https://www.codecademy.com/)\n",
        "\n",
        "**Books, Blogs, and Tutorials**\n",
        "\n",
        "[Goodfellow Deep Learning book](https://www.deeplearningbook.org/)\n",
        "[Deep Learning for Computer Vision with Python](https://www.pyimagesearch.com/deep-learning-computer-vision-python-book/)\n",
        "[Neural Networks and Deep Learning](http://neuralnetworksanddeeplearning.com/)\n",
        "[Neural Networks From Scratch](https://nnfs.io/)\n",
        "[Deep Learning with PyTorch Step-by-Step](https://leanpub.com/pytorch/)\n",
        "[MLIF Book](https://www.machinelearningisfun.com/get-the-book/)\n",
        "[Interpretable Machine Learning](https://christophm.github.io/interpretable-ml-book/)\n",
        "[Databook](http://databookuw.com/databook.pdf)\n",
        "[Towards Data Science](https://towardsdatascience.com/machine-learning/home)\n",
        "[Machine Learning Mastery](https://machinelearningmastery.com/)\n",
        "[KDnuggets](https://www.kdnuggets.com/tag/machine-learning)\n",
        "[pyimagesearch](https://www.pyimagesearch.com/)\n",
        "[Edwin Chen](http://blog.echen.me/)\n",
        "[Lil’Log](https://lilianweng.github.io/)\n",
        "[Real Python Tutorials](https://realpython.com/)\n",
        "[Machine Learning for Humans🤖👶](https://medium.com/machine-learning-for-humans/why-machine-learning-matters-6164faf1df12)\n",
        "[Google AI Blog](https://ai.googleblog.com/)\n",
        "[OpenAI Blog](https://openai.com/blog)\n",
        "[Beginning with ML](https://beginningwithml.wordpress.com/)\n",
        "[Applied Deep Learning](https://github.com/maziarraissi/Applied-Deep-Learning)\n",
        "\n",
        "**Educational Resources and Communities**\n",
        "\n",
        "[Model Zoo](https://modelzoo.co/)\n",
        "[A Neural Network Playground](https://playground.tensorflow.org/)\n",
        "[25 Must Know concepts in DL](https://www.analyticsvidhya.com/blog/2017/05/25-must-know-terms-concepts-for-beginners-in-deep-learning/)\n",
        "[Comparison of AI Frameworks](https://wiki.pathmind.com/comparison-frameworks-dl4j-tensorflow-pytorch)\n",
        "[Machine Learning Glossary](https://developers.google.com/machine-learning/glossary/)\n",
        "[Recall, Precision, and everything](https://medium.com/swlh/recall-precision-f1-roc-auc-and-everything-542aedf322b9)\n",
        "[Prompt Engineering Guide](https://www.promptingguide.ai/)\n",
        "[Learn Prompting](https://learnprompting.org/docs/intro)\n",
        "[Machine Learning Tutorial Python](https://www.youtube.com/watch?v=gmvvaobm7eQ&list=PLeo1K3hjS3uvCeTYTeyfe0-rN5r8zn9rw)\n",
        "[Weights & Biases](https://pytorch.org/)\n",
        "[Computerphile](https://www.youtube.com/playlist?list=PLzH6n4zXuckoezZuZPnXXbvN-9jMFV0qh)\n",
        "[3Blue1Brown](https://www.youtube.com/watch?v=aircAruvnKk)\n",
        "\n",
        "**Research Resources and AI Services**\n",
        "\n",
        "[IEEE Signal Processing Magazine](https://ieeexplore.ieee.org/xpl/topAccessedArticles.jsp?punumber=79)\n",
        "[Monthly papers](https://papers.labml.ai/papers/monthly/)\n",
        "[Casual GAN Papers](https://www.casualganpapers.com/)\n",
        "[Paperswithcode](https://paperswithcode.com/)\n",
        "[Cloud Vision API](https://cloud.google.com/vision)\n",
        "\n",
        "**Miscellaneous Tools**\n",
        "\n",
        "[Auto sketch](https://magenta.tensorflow.org/assets/sketch_rnn_demo/index.html)\n",
        "[ChatGPT](https://chat.openai.com/)\n",
        "[Midjourney](https://www.midjourney.com/)\n",
        "[Kaggle](https://www.kaggle.com/)\n",
        "\n",
        "✍🏼 Share with us 1-3 links, that interested you.\n",
        "\n",
        "* Pre-trained LLM models: https://huggingface.co/docs/transformers/training\n",
        "* PyTorch tutorial: https://www.youtube.com/watch?v=V_xro1bcAuA\n",
        "* Weights & Biases: https://wandb.ai/site"
      ]
    },
    {
      "cell_type": "markdown",
      "source": [],
      "metadata": {
        "id": "IIvfM-8x80et"
      }
    },
    {
      "cell_type": "markdown",
      "metadata": {
        "id": "KnqfYYoduyXn"
      },
      "source": [
        "# Part 2: Shallow learning in Numpy\n",
        "\n",
        "\n",
        "\n",
        "\n",
        "\n",
        "\n"
      ]
    },
    {
      "cell_type": "markdown",
      "metadata": {
        "id": "3mLD3-Bv4jfW"
      },
      "source": [
        "---\n",
        "\n",
        "> *Choke me in the shallow water before I get too deep.* (Edie Brickell)\n",
        "\n",
        "---\n",
        "\n",
        "<img src=\"https://su2.utia.cas.cz/files/labs/23-201/shallow_deep.png\">\n",
        "\n",
        "<img src=\"https://su2.utia.cas.cz/files/labs/23-201/ml_steps202.png\">"
      ]
    },
    {
      "cell_type": "markdown",
      "metadata": {
        "id": "m-ZA0HpV4rc-"
      },
      "source": [
        "## Load packages"
      ]
    },
    {
      "cell_type": "code",
      "metadata": {
        "id": "yTY0xfDxrzOW"
      },
      "source": [
        "import numpy as np\n",
        "from sklearn.linear_model import LinearRegression"
      ],
      "execution_count": 4,
      "outputs": []
    },
    {
      "cell_type": "markdown",
      "metadata": {
        "id": "xu19ofI0rzOX"
      },
      "source": [
        "## Linear regression"
      ]
    },
    {
      "cell_type": "markdown",
      "metadata": {
        "id": "2NNayssNrzOZ"
      },
      "source": [
        "### Synthetic Data Generation\n",
        "\n",
        "$$\n",
        "\\Large y = w x + b + \\epsilon\n",
        "$$\n",
        "<br />\n",
        "Let's define:\n",
        "$$\n",
        "\\textrm{slope (weight): } w = 2\\\\\n",
        "\\textrm{intercept (bias): } b = 1\n",
        "$$\n",
        "<br />\n",
        "We will generate 100 data points $[x,y]$ according to:\n",
        "<br /><br />\n",
        "$$\n",
        "\\Large y = 2 x + 1 + \\epsilon\n",
        "$$\n",
        "where $\\epsilon$ is random noise.\n",
        "<br />\n",
        "\n",
        "Then we will split our data into training set (80 points) and validation set (20 points).\n",
        "\n",
        "<img src=\"https://su2.utia.cas.cz/files/labs/23-201/train_validation_split.png\">"
      ]
    },
    {
      "cell_type": "code",
      "metadata": {
        "id": "UHgs7TLzrzOb"
      },
      "source": [
        "true_w = 2\n",
        "true_b = 1\n",
        "N = 100\n",
        "\n",
        "# Data Generation\n",
        "np.random.seed(42)\n",
        "x = np.random.rand(N, 1)\n",
        "epsilon = (.1 * np.random.randn(N, 1))\n",
        "y = true_b + true_w * x + epsilon\n",
        "\n",
        "# Shuffles the indices\n",
        "idx = np.arange(N)\n",
        "np.random.shuffle(idx)\n",
        "\n",
        "# Uses first 80 random indices for train\n",
        "train_idx = idx[:int(N*.8)]\n",
        "# Uses the remaining indices for validation\n",
        "val_idx = idx[int(N*.8):]\n",
        "\n",
        "# Generates train and validation sets\n",
        "x_train, y_train = x[train_idx], y[train_idx]\n",
        "x_val, y_val = x[val_idx], y[val_idx]"
      ],
      "execution_count": 5,
      "outputs": []
    },
    {
      "cell_type": "markdown",
      "metadata": {
        "id": "Rf8U-4sbjZ89"
      },
      "source": [
        "<img src=\"https://su2.utia.cas.cz/files/labs/23-201/trainl_steps.png\">"
      ]
    },
    {
      "cell_type": "markdown",
      "metadata": {
        "id": "nN-AUiTerzOe"
      },
      "source": [
        "## Step 0: Random Initialization"
      ]
    },
    {
      "cell_type": "code",
      "metadata": {
        "id": "ieOAgS0QrzOe",
        "colab": {
          "base_uri": "https://localhost:8080/"
        },
        "outputId": "80303769-96a7-4326-dfc3-fceb6f7cd294"
      },
      "source": [
        "# Step 0 - Initializes parameters \"b\" and \"w\" randomly\n",
        "np.random.seed(42)\n",
        "b = np.random.randn(1)\n",
        "w = np.random.randn(1)\n",
        "\n",
        "print(b, w)"
      ],
      "execution_count": 6,
      "outputs": [
        {
          "output_type": "stream",
          "name": "stdout",
          "text": [
            "[0.49671415] [-0.1382643]\n"
          ]
        }
      ]
    },
    {
      "cell_type": "markdown",
      "metadata": {
        "id": "1WH3gxQmrzOe"
      },
      "source": [
        "## Step 1: Compute Model's Predictions\n",
        "$$\n",
        "\\Large \\hat{y} = w x + b\n",
        "$$\n",
        "<br />\n",
        "<img src=\"https://su2.utia.cas.cz/files/labs/23-201/step1.png\">"
      ]
    },
    {
      "cell_type": "code",
      "metadata": {
        "id": "gu7peNgZrzOf"
      },
      "source": [
        "# Step 1 - Computes our model's predicted output - forward pass\n",
        "yhat = b + w * x_train"
      ],
      "execution_count": 7,
      "outputs": []
    },
    {
      "cell_type": "markdown",
      "metadata": {
        "id": "UgHuOBuw6fUF"
      },
      "source": [
        "## ✍🏼 Excercise 3\n",
        "\n",
        "Plot graph above  with the use of matplotlib."
      ]
    },
    {
      "cell_type": "code",
      "metadata": {
        "id": "SPYRM1RU6aQl",
        "colab": {
          "base_uri": "https://localhost:8080/",
          "height": 465
        },
        "outputId": "a04e5d2d-19bb-4201-ea6c-619d98c5c584"
      },
      "source": [
        "x_int = np.linspace(0,1,11)\n",
        "yhat_int = b + w * x_int\n",
        "\n",
        "fig, ax = plt.subplots(figsize=(5, 5))\n",
        "\n",
        "ax.grid(True)\n",
        "\n",
        "for position in [\"bottom\", \"top\", \"right\", \"left\"]:\n",
        "  ax.spines[position].set_color('white')\n",
        "\n",
        "ax.set_xticks(np.arange(0.0, 1.2, 0.2))\n",
        "ax.set_yticks(np.arange(0.0, 3.5, 0.5))\n",
        "\n",
        "ax.scatter(x, y, s = 10)\n",
        "ax.plot(x_int, yhat_int, linestyle='--', color=\"black\", label=\"Model´s prediction\")\n",
        "ax.text(x_int[2], yhat_int[2] + 0.1, 'b = 0.4967 w = -0.1383', va='bottom')\n",
        "\n",
        "ax.set_xlabel(\"x\")\n",
        "ax.set_ylabel(\"y\")\n",
        "ax.set_axisbelow(True)\n",
        "\n",
        "plt.show()"
      ],
      "execution_count": 8,
      "outputs": [
        {
          "output_type": "display_data",
          "data": {
            "text/plain": [
              "<Figure size 500x500 with 1 Axes>"
            ],
            "image/png": "[encoded data removed]"
          },
          "metadata": {}
        }
      ]
    },
    {
      "cell_type": "markdown",
      "metadata": {
        "id": "8CWbKFWorzOf"
      },
      "source": [
        "## Step 2: Compute the Loss\n",
        "\n",
        "How wrong is our model? That's the error!"
      ]
    },
    {
      "cell_type": "markdown",
      "metadata": {
        "id": "njABFhurrzOg"
      },
      "source": [
        "$$\n",
        "\\Large error_i = \\hat{y_i} - y_i\n",
        "$$\n",
        "\n",
        "<br />\n",
        "<img src=\"https://su2.utia.cas.cz/files/labs/23-201/step2.png\">"
      ]
    },
    {
      "cell_type": "markdown",
      "metadata": {
        "id": "aVvfBQ7QrzOg"
      },
      "source": [
        "$$\n",
        "\\Large\n",
        "\\begin{aligned}\n",
        "MSE &= \\frac{1}{n} \\sum_{i=1}^n{error_i}^2\n",
        "\\\\\n",
        "&= \\frac{1}{n} \\sum_{i=1}^n{(\\hat{y_i} - y_i)}^2\n",
        "\\\\\n",
        "&= \\frac{1}{n} \\sum_{i=1}^n{(b + w x_i - y_i)}^2\n",
        "\\end{aligned}\n",
        "$$"
      ]
    },
    {
      "cell_type": "code",
      "metadata": {
        "id": "uo3xfUmNrzOh",
        "colab": {
          "base_uri": "https://localhost:8080/"
        },
        "outputId": "37b909d3-8a13-47eb-e134-83674806b160"
      },
      "source": [
        "# Step 2 - Computing the loss (mean squared error, MSE)\n",
        "error = (yhat - y_train)\n",
        "loss = (error ** 2).mean()\n",
        "print(loss)"
      ],
      "execution_count": 9,
      "outputs": [
        {
          "output_type": "stream",
          "name": "stdout",
          "text": [
            "2.7421577700550976\n"
          ]
        }
      ]
    },
    {
      "cell_type": "markdown",
      "metadata": {
        "id": "iwNvn7pUrzOh"
      },
      "source": [
        "### Loss Surface\n",
        "\n",
        "<img src=\"https://su2.utia.cas.cz/files/labs/23-201/step2b.png\">"
      ]
    },
    {
      "cell_type": "code",
      "metadata": {
        "id": "yqc4BqDHrzOi",
        "colab": {
          "base_uri": "https://localhost:8080/",
          "height": 415
        },
        "outputId": "6e62db91-e0b7-487b-83cf-6b36d71edaef"
      },
      "source": [
        "# Reminder:\n",
        "# true_b = 1\n",
        "# true_w = 2\n",
        "\n",
        "# we have to split the ranges in 100 evenly spaced intervals each\n",
        "b_range = np.linspace(true_b - 3, true_b + 3, 101)\n",
        "w_range = np.linspace(true_w - 3, true_w + 3, 101)\n",
        "# meshgrid is a handy function that generates a grid of b and w\n",
        "# values for all combinations\n",
        "bs, ws = np.meshgrid(b_range, w_range)\n",
        "all_predictions = np.apply_along_axis(\n",
        "    func1d=lambda x: bs + ws * x,\n",
        "    axis=1,\n",
        "    arr=x_train\n",
        ")\n",
        "all_labels = y_train.reshape(-1, 1, 1)\n",
        "all_errors = (all_predictions - all_labels)\n",
        "all_losses = (all_errors ** 2).mean(axis=0)\n",
        "\n",
        "fig = plt.figure()\n",
        "ax = fig.add_subplot(projection = '3d')\n",
        "surf = ax.plot_surface(bs, ws, all_losses)\n",
        "ax.set_xlabel('b')\n",
        "ax.set_ylabel('w')\n",
        "plt.show()"
      ],
      "execution_count": 10,
      "outputs": [
        {
          "output_type": "display_data",
          "data": {
            "text/plain": [
              "<Figure size 640x480 with 1 Axes>"
            ],
            "image/png": "[encoded data removed]"
          },
          "metadata": {}
        }
      ]
    },
    {
      "cell_type": "markdown",
      "metadata": {
        "id": "qwTyjmKfrzOl"
      },
      "source": [
        "### Cross Sections\n",
        "\n",
        "<img src=\"https://su2.utia.cas.cz/files/labs/23-201/step2c.png\">\n",
        "<img src=\"https://su2.utia.cas.cz/files/labs/23-201/step2d.png\">"
      ]
    },
    {
      "cell_type": "markdown",
      "metadata": {
        "id": "nDeLuZinrzOm"
      },
      "source": [
        "## Step 3: Compute the Gradients\n",
        "\n",
        "<img src=\"https://su2.utia.cas.cz/files/labs/23-201/step3.png\">"
      ]
    },
    {
      "cell_type": "markdown",
      "metadata": {
        "id": "1D60kR6KrzOm"
      },
      "source": [
        "$$\n",
        "\\large\n",
        "\\begin{aligned}\n",
        "MSE &= \\frac{1}{n} \\sum_{i=1}^n{(b + w x_i - y_i)}^2\n",
        "\\\\\n",
        "\\\\\n",
        "\\frac{\\partial{MSE}}{\\partial{w}} = \\frac{\\partial{MSE}}{\\partial{\\hat{y_i}}} \\cdot \\frac{\\partial{\\hat{y_i}}}{\\partial{w}} &= \\frac{1}{n} \\sum_{i=1}^n{2(b + w x_i - y_i) \\cdot x_i}\n",
        "\\\\\n",
        "&= 2 \\frac{1}{n} \\sum_{i=1}^n{x_i (\\hat{y_i} - y_i)}\n",
        "\\\\\n",
        "\\frac{\\partial{MSE}}{\\partial{b}} = \\frac{\\partial{MSE}}{\\partial{\\hat{y_i}}} \\cdot \\frac{\\partial{\\hat{y_i}}}{\\partial{b}} &= \\frac{1}{n} \\sum_{i=1}^n{2(b + w x_i - y_i)}\n",
        "\\\\\n",
        "&= 2 \\frac{1}{n} \\sum_{i=1}^n{(\\hat{y_i} - y_i)}\n",
        "\\end{aligned}\n",
        "$$"
      ]
    },
    {
      "cell_type": "code",
      "metadata": {
        "id": "IR_yRw9rrzOm",
        "colab": {
          "base_uri": "https://localhost:8080/"
        },
        "outputId": "c7c02e7f-e9e9-4f4c-d23e-e84c53e5e2c0"
      },
      "source": [
        "# Step 3 - Computes gradients for both \"b\" and \"w\" parameters\n",
        "w_grad = 2 * (x_train * error).mean()\n",
        "b_grad = 2 * error.mean()\n",
        "print(w_grad, b_grad)"
      ],
      "execution_count": 11,
      "outputs": [
        {
          "output_type": "stream",
          "name": "stdout",
          "text": [
            "-1.8337537171510832 -3.044811379650508\n"
          ]
        }
      ]
    },
    {
      "cell_type": "markdown",
      "metadata": {
        "id": "1hDAL5DArzOn"
      },
      "source": [
        "## Step 4: Update the Parameters\n",
        "\n",
        "$$\n",
        "\\Large\n",
        "\\begin{aligned}\n",
        "& w = w - \\eta \\frac{\\partial{MSE}}{\\partial{w}}\n",
        "\\\\\n",
        "& b = b - \\eta \\frac{\\partial{MSE}}{\\partial{b}}\n",
        "\\end{aligned}\n",
        "$$\n",
        "<br />\n",
        "<img src=\"https://su2.utia.cas.cz/files/labs/23-201/step4.png\">"
      ]
    },
    {
      "cell_type": "code",
      "metadata": {
        "id": "xZgj7OWzrzOn",
        "colab": {
          "base_uri": "https://localhost:8080/"
        },
        "outputId": "9478065d-ec12-489a-ce20-9ab8ed9012ae"
      },
      "source": [
        "# Sets learning rate - this is \"eta\" ~ the \"n\" like Greek letter\n",
        "lr = 0.1\n",
        "print(f'Initial parameters:\\n\\t w = {w}, b = {b}')\n",
        "\n",
        "# Step 4 - Updates parameters using gradients and the\n",
        "# learning rate\n",
        "b = b - lr * b_grad\n",
        "w = w - lr * w_grad\n",
        "print(f'Parameters after updating:\\n\\t w = {w}, b = {b}')"
      ],
      "execution_count": 12,
      "outputs": [
        {
          "output_type": "stream",
          "name": "stdout",
          "text": [
            "Initial parameters:\n",
            "\t w = [-0.1382643], b = [0.49671415]\n",
            "Parameters after updating:\n",
            "\t w = [0.04511107], b = [0.80119529]\n"
          ]
        }
      ]
    },
    {
      "cell_type": "markdown",
      "metadata": {
        "id": "2Cm4RSMwrzOo"
      },
      "source": [
        "### Learning Rates\n",
        "**Small learning rate**\n",
        "\n",
        "<img src=\"https://su2.utia.cas.cz/files/labs/23-201/step4b.png\">\n",
        "\n",
        "**Big learning rate**\n",
        "\n",
        "<img src=\"https://su2.utia.cas.cz/files/labs/23-201/step4c.png\">\n",
        "\n",
        "**Very big learning rate**\n",
        "\n",
        "<img src=\"https://su2.utia.cas.cz/files/labs/23-201/step4d.png\">"
      ]
    },
    {
      "cell_type": "markdown",
      "metadata": {
        "id": "3uzJu3S-rzOr"
      },
      "source": [
        "## Step 5: Repeat (PLGU steps):\n",
        "\n",
        "\n",
        "1.   **P**redictions of the model\n",
        "1.   **L**oss function computation\n",
        "2.   **G**radients computation\n",
        "3.   **U**pdate the parameters\n",
        "\n",
        "\n",
        "\n",
        "<img src=\"https://su2.utia.cas.cz/files/labs/23-201/step5.png\">"
      ]
    },
    {
      "cell_type": "markdown",
      "metadata": {
        "id": "eXXnTwkd37Ss"
      },
      "source": [
        "## Putting It All Together\n",
        "Recall the model:\n",
        "$$\n",
        "\\Large \\hat{y} = w x + b\n",
        "$$"
      ]
    },
    {
      "cell_type": "code",
      "metadata": {
        "id": "0MO5XIco3zUG",
        "colab": {
          "base_uri": "https://localhost:8080/"
        },
        "outputId": "70171be7-8154-43d2-b4be-69fcf67917de"
      },
      "source": [
        "print(f'Ground-truth parameters:\\n\\t w = 2, b = 1')\n",
        "\n",
        "# Step 0 - Initializes parameters \"b\" and \"w\" randomly\n",
        "np.random.seed(42)\n",
        "b = np.random.randn(1)\n",
        "w = np.random.randn(1)\n",
        "\n",
        "print(f'Initial parameters:\\n\\t w = {w}, b = {b}')\n",
        "\n",
        "# Sets learning rate - this is \"eta\" ~ the \"n\"-like Greek letter\n",
        "lr = 0.1\n",
        "# Defines number of epochs\n",
        "n_epochs = 1000\n",
        "\n",
        "for epoch in range(n_epochs):\n",
        "    # Step 1 - Computes model's predicted output - forward pass\n",
        "    yhat = b + w * x_train\n",
        "\n",
        "    # Step 2 - Computes the loss\n",
        "    # We are using ALL data points, so this is BATCH gradient\n",
        "    # descent. How wrong is our model? That's the error!\n",
        "    error = (yhat - y_train)\n",
        "    # It is a regression, so it computes mean squared error (MSE)\n",
        "    loss = (error ** 2).mean()\n",
        "\n",
        "    # Step 3 - Computes gradients for both \"b\" and \"w\" parameters\n",
        "    b_grad = 2 * error.mean()\n",
        "    w_grad = 2 * (x_train * error).mean()\n",
        "\n",
        "    # Step 4 - Updates parameters using gradients and\n",
        "    # the learning rate\n",
        "    b = b - lr * b_grad\n",
        "    w = w - lr * w_grad\n",
        "\n",
        "print(f'Parameters after learning:\\n\\t w = {w}, b = {b}')\n"
      ],
      "execution_count": 13,
      "outputs": [
        {
          "output_type": "stream",
          "name": "stdout",
          "text": [
            "Ground-truth parameters:\n",
            "\t w = 2, b = 1\n",
            "Initial parameters:\n",
            "\t w = [-0.1382643], b = [0.49671415]\n",
            "Parameters after learning:\n",
            "\t w = [1.96896411], b = [1.02354094]\n"
          ]
        }
      ]
    },
    {
      "cell_type": "markdown",
      "metadata": {
        "id": "T6rWEbQBtSoz"
      },
      "source": [
        "# Part 3: Linear regression in PyTorch"
      ]
    },
    {
      "cell_type": "markdown",
      "metadata": {
        "id": "RfO5oJ4-YC7p"
      },
      "source": [
        "**What is PyTorch?**\n",
        "\n",
        "[PyTorch](https://pytorch.org/) is an open source machine learning framework (library) that provides two high-level features:\n",
        "\n",
        "1.   Tensor computation with strong GPU acceleration\n",
        "2.   Deep neural networks built on an autograd system (automatic differentiation)\n",
        "\n",
        "**Why PyTorch?**\n",
        "\n",
        "1.   Pythonic nature and ease of extendability\n",
        "1.   [Preferred framework in academia](https://thegradient.pub/state-of-ml-frameworks-2019-pytorch-dominates-research-tensorflow-dominates-industry/)\n",
        "2.   [The fastest-growing framework for developing Deep Learning models](https://www.businessinsider.com/pytorch-facebook-tesla-uber-genentech-stanford-berkeley-2019-8)\n",
        "3.   [It has a huge ecosystem of tools and libraries.](https://pytorch.org/ecosystem/)\n",
        "4.   [Companies powered by PyTorch: Facebook,](https://developers.facebook.com/videos/2019/powered-by-pytorch/) [Tesla](https://www.youtube.com/watch?v=oBklltKXtDE), [OpenAI](https://openai.com/blog/openai-pytorch/), [fastai](https://docs.fast.ai/), [Uber](https://www.youtube.com/watch?v=i2hHC0NBY5s), [Airbnb](https://hub.packtpub.com/microsoft-airbnb-genentech-toyota-pytorch-to-build-deploy-production-ready-ai/),...\n",
        "\n",
        "**Is PyTorch better than other frameworks?**\n",
        "\n",
        "Hard to say. It is like to ask: \"Is Java better than Python?\" It depends on your preferences and usage. However, the fundamentals of deep learning are the same, regardless of whether you use PyTorch, TensorFlow or Caffe. Just pick one and learn it. Your second DL library is often an order of magnitude easier to learn. We picked PyTorch for you!\n",
        "\n",
        "**Top Deep Learning Frameworks**\n",
        "\n",
        "<a href=\"https://cdn-gcp.marutitech.com/wp-media/2018/03/8f25ea16-top-8-deep-learning-frameworks.png\"><img src=\"https://su2.utia.cas.cz/files/labs/23-201/frameworks.png\"></a>\n",
        "\n"
      ]
    },
    {
      "cell_type": "markdown",
      "metadata": {
        "id": "SWnnd7QXcHxA"
      },
      "source": [
        "## Load packages"
      ]
    },
    {
      "cell_type": "code",
      "metadata": {
        "id": "488u9hcHcOW5"
      },
      "source": [
        "import torch\n",
        "import numpy as np\n",
        "import torch.optim as optim\n",
        "import torch.nn as nn\n",
        "import matplotlib.pyplot as plt"
      ],
      "execution_count": 14,
      "outputs": []
    },
    {
      "cell_type": "markdown",
      "metadata": {
        "id": "j4SZ1YNQtSo0"
      },
      "source": [
        "## Tensor\n",
        "\n",
        "PyTorch represents data as multi-dimensional, [NumPy](https://fjfi.pythonic.eu/posts/zaklady-numpy.html)-like arrays called tensors. [Tensors](https://www.youtube.com/watch?v=r7QDUPb2dCM) store inputs to your neural network, hidden layer representations, and the outputs.\n",
        "\n",
        "*It is commonplace to call vectors and matrices tensors as well.*\n",
        "\n",
        "\n",
        "<a href=\"https://miro.medium.com/max/2400/1*GbwKkmA0NdndXRhOOwNclA.jpeg\"><img src=\"https://su2.utia.cas.cz/files/labs/23-201/linear_dogs.jpg\"></a>\n",
        "\n"
      ]
    },
    {
      "cell_type": "code",
      "metadata": {
        "id": "jeojBr3NtSo0",
        "colab": {
          "base_uri": "https://localhost:8080/"
        },
        "outputId": "6344b24e-67a4-4e1e-ff57-34c7538d22f2"
      },
      "source": [
        "scalar = torch.tensor(3.14159)\n",
        "vector = torch.tensor([1, 2, 3])\n",
        "matrix = torch.ones((2, 3), dtype=torch.float)\n",
        "tensor = torch.randn((2, 3, 4), dtype=torch.float)\n",
        "\n",
        "print(scalar)\n",
        "print(vector)\n",
        "print(matrix)\n",
        "print(tensor)"
      ],
      "execution_count": 15,
      "outputs": [
        {
          "output_type": "stream",
          "name": "stdout",
          "text": [
            "tensor(3.1416)\n",
            "tensor([1, 2, 3])\n",
            "tensor([[1., 1., 1.],\n",
            "        [1., 1., 1.]])\n",
            "tensor([[[-0.4641,  0.2267, -0.7171, -0.3977],\n",
            "         [-1.1765,  1.4380, -1.3400,  0.9486],\n",
            "         [-1.4147, -0.5125, -0.0325, -0.8524]],\n",
            "\n",
            "        [[ 0.1813, -1.3743, -0.5018, -0.7648],\n",
            "         [ 0.5874,  0.2094, -0.8932,  0.2911],\n",
            "         [ 0.9711, -1.4686,  0.1352,  1.1059]]])\n"
          ]
        }
      ]
    },
    {
      "cell_type": "markdown",
      "metadata": {
        "id": "mB4O3pHieXOg"
      },
      "source": [
        "### Play around\n",
        "\n",
        "*   With `tensor.view()` we modify shape, but it is still the same tensor!\n",
        "*   With `tensor.clone()` we get a new copy. The original tensor (matrix) is left untouched!\n",
        "*   With `tensor.shape` (or `tensor.size()`) we get the shape.\n",
        "\n",
        "\n"
      ]
    },
    {
      "cell_type": "code",
      "metadata": {
        "id": "y2PCmo2He5M-",
        "colab": {
          "base_uri": "https://localhost:8080/"
        },
        "outputId": "8bbc9e56-5663-499b-e13b-d71bc30cc7a6"
      },
      "source": [
        "same_matrix = matrix.view(1, 6)\n",
        "different_matrix = matrix.view(1, 6).clone().detach()\n",
        "\n",
        "same_matrix[0, 1] = 2.\n",
        "different_matrix[0, 1] = 4.\n",
        "\n",
        "print(matrix)\n",
        "print(same_matrix)\n",
        "print(different_matrix)\n",
        "\n",
        "print(matrix.shape)\n",
        "print(same_matrix.shape)\n",
        "print(different_matrix.shape)"
      ],
      "execution_count": 16,
      "outputs": [
        {
          "output_type": "stream",
          "name": "stdout",
          "text": [
            "tensor([[1., 2., 1.],\n",
            "        [1., 1., 1.]])\n",
            "tensor([[1., 2., 1., 1., 1., 1.]])\n",
            "tensor([[1., 4., 1., 1., 1., 1.]])\n",
            "torch.Size([2, 3])\n",
            "torch.Size([1, 6])\n",
            "torch.Size([1, 6])\n"
          ]
        }
      ]
    },
    {
      "cell_type": "markdown",
      "metadata": {
        "id": "FV7DiEgpdmuG"
      },
      "source": [
        "### From Numpy to Tensor"
      ]
    },
    {
      "cell_type": "code",
      "metadata": {
        "colab": {
          "base_uri": "https://localhost:8080/"
        },
        "id": "eHZ8CQKEduUJ",
        "outputId": "032a55f7-ac5b-4575-d29e-7047a3e5dd20"
      },
      "source": [
        "dummy_array = np.array([1, 2, 3])\n",
        "dummy_tensor = torch.as_tensor(dummy_array)\n",
        "dummy_array2 = dummy_tensor.numpy()\n",
        "dummy_array[1] = 0\n",
        "print(f'Numpy array and tensor shares the underlying data\\n\\t {dummy_array} = {dummy_tensor} = {dummy_array2} ')"
      ],
      "execution_count": 17,
      "outputs": [
        {
          "output_type": "stream",
          "name": "stdout",
          "text": [
            "Numpy array and tensor shares the underlying data\n",
            "\t [1 0 3] = tensor([1, 0, 3]) = [1 0 3] \n"
          ]
        }
      ]
    },
    {
      "cell_type": "markdown",
      "metadata": {
        "id": "rMS-dVdOc8lN"
      },
      "source": [
        "### Synthetic Data Generation\n",
        "\n",
        "$$\n",
        "\\Large y = w x + b + \\epsilon\n",
        "$$\n",
        "<br />\n",
        "Let's define:\n",
        "$$\n",
        "\\textrm{slope (weight): } w = 2\\\\\n",
        "\\textrm{intecept (bias): } b = 1\n",
        "$$\n",
        "<br />\n",
        "We will generate 100 data points $[x,y]$ according to:\n",
        "<br /><br />\n",
        "$$\n",
        "\\Large y = 2 x + 1 + \\epsilon\n",
        "$$\n",
        "where $\\epsilon$ is random noise.\n",
        "<br />\n",
        "\n",
        "Then we will split our data into training set (80 points) and validation set (20 points).\n",
        "\n",
        "<img src=\"https://su2.utia.cas.cz/files/labs/23-201/train_validation_split.png\">"
      ]
    },
    {
      "cell_type": "code",
      "metadata": {
        "id": "GsrSCAb9dACH"
      },
      "source": [
        "true_w = 2\n",
        "true_b = 1\n",
        "N = 100\n",
        "\n",
        "# Data Generation\n",
        "np.random.seed(42)\n",
        "x = np.random.rand(N, 1)\n",
        "epsilon = (.1 * np.random.randn(N, 1))\n",
        "y = true_b + true_w * x + epsilon\n",
        "\n",
        "# Shuffles the indices\n",
        "idx = np.arange(N)\n",
        "np.random.shuffle(idx)\n",
        "\n",
        "# Uses first 80 random indices for train\n",
        "train_idx = idx[:int(N*.8)]\n",
        "# Uses the remaining indices for validation\n",
        "val_idx = idx[int(N*.8):]\n",
        "\n",
        "# Generates train and validation sets\n",
        "x_train, y_train = x[train_idx], y[train_idx]\n",
        "x_val, y_val = x[val_idx], y[val_idx]"
      ],
      "execution_count": 18,
      "outputs": []
    },
    {
      "cell_type": "markdown",
      "metadata": {
        "id": "u-8B2F92tSo1"
      },
      "source": [
        "### Loading our training data as tensors"
      ]
    },
    {
      "cell_type": "code",
      "metadata": {
        "id": "WV7wSV46tSo1",
        "colab": {
          "base_uri": "https://localhost:8080/"
        },
        "outputId": "56ab93a9-eda9-415c-ad78-018ca97fb13d"
      },
      "source": [
        "x_train_tensor = torch.as_tensor(x_train)\n",
        "y_train_tensor = torch.as_tensor(y_train)\n",
        "float_tensor = x_train_tensor.float()\n",
        "\n",
        "print(f'x_train has type \\t\\t {x_train.dtype} \\n')\n",
        "print(f'x_train_tensor has type \\t {x_train_tensor.dtype}\\n')\n",
        "print(f'We can change type to \\t\\t {float_tensor.dtype}\\n')"
      ],
      "execution_count": 19,
      "outputs": [
        {
          "output_type": "stream",
          "name": "stdout",
          "text": [
            "x_train has type \t\t float64 \n",
            "\n",
            "x_train_tensor has type \t torch.float64\n",
            "\n",
            "We can change type to \t\t torch.float32\n",
            "\n"
          ]
        }
      ]
    },
    {
      "cell_type": "markdown",
      "metadata": {
        "id": "v7nzy_eAtSo2"
      },
      "source": [
        "### Defining your device\n",
        "\n",
        "<a href=\"https://geekboots.sfo2.cdn.digitaloceanspaces.com/post/cpu-vs-gpu-vs-tpu-1564660333495.jpg\"><img src=\"https://su2.utia.cas.cz/files/labs/23-201/cpu_gpu.jpg\"></a>\n",
        "\n",
        "The PyTorch library primarily supports NVIDIA CUDA-based GPUs. GPU acceleration allows you to train neural networks in a fraction of a time.\n",
        "\n",
        "**How to change hardware accelerator in Colab?**\n",
        "\n",
        "<img src=\"https://su2.utia.cas.cz/files/labs/23-201/runtime.png\">"
      ]
    },
    {
      "cell_type": "code",
      "metadata": {
        "id": "0W4yueQdtSo2",
        "colab": {
          "base_uri": "https://localhost:8080/"
        },
        "outputId": "00d8a33a-56dc-4c77-a33b-8ef1aa0c3dae"
      },
      "source": [
        "device = 'cuda' if torch.cuda.is_available() else 'cpu'\n",
        "\n",
        "n_cudas = torch.cuda.device_count()\n",
        "\n",
        "print(f'We are now using {device}. There are {n_cudas} available gpus.')\n",
        "\n",
        "if torch.cuda.is_available():\n",
        "    print(f'{torch.cuda.get_device_name(0)}')"
      ],
      "execution_count": 20,
      "outputs": [
        {
          "output_type": "stream",
          "name": "stdout",
          "text": [
            "We are now using cuda. There are 1 available gpus.\n",
            "Tesla T4\n"
          ]
        }
      ]
    },
    {
      "cell_type": "markdown",
      "metadata": {
        "id": "TQKDsaB5tSo3"
      },
      "source": [
        "### Sending training data to GPU and back\n",
        "<img src=\"https://su2.utia.cas.cz/files/labs/23-201/numpy_tensor_gpu.png\">\n",
        "\n",
        "Our training data was in Numpy arrays, but we need to transform them into PyTorch's Tensors and then we send them to the chosen device"
      ]
    },
    {
      "cell_type": "code",
      "metadata": {
        "scrolled": true,
        "id": "E6M7QEAwtSo3",
        "colab": {
          "base_uri": "https://localhost:8080/"
        },
        "outputId": "7d21cdd1-fc80-4489-b5b5-fd7810bff6f1"
      },
      "source": [
        "x_train_tensor = torch.as_tensor(x_train).float().to(device)\n",
        "y_train_tensor = torch.as_tensor(y_train).float().to(device)\n",
        "back_to_numpy = x_train_tensor.cpu().numpy()\n",
        "\n",
        "print(f'Look at the type of the tensor:\\t {x_train_tensor.type()}\\n')\n",
        "print(f'Numpy cannot handle GPU tensors, you need to make them CPU tensors first using .cpu():\\n\\tback_to_numpy is {type(back_to_numpy)}')"
      ],
      "execution_count": 21,
      "outputs": [
        {
          "output_type": "stream",
          "name": "stdout",
          "text": [
            "Look at the type of the tensor:\t torch.cuda.FloatTensor\n",
            "\n",
            "Numpy cannot handle GPU tensors, you need to make them CPU tensors first using .cpu():\n",
            "\tback_to_numpy is <class 'numpy.ndarray'>\n"
          ]
        }
      ]
    },
    {
      "cell_type": "markdown",
      "metadata": {
        "id": "8TzGaGZXAq0N"
      },
      "source": [
        "## Backpropagation\n",
        "\n",
        "Let's use computation graph - a systematic  way to represent our model.\n",
        "We can better understand and calculate derivatives of gradients and loss function in the large chain of computations.\n",
        "\n",
        "The main idea of computation graphs is to decompose complex computations into several sequences of much simpler calculations. There are two important principles in this process:\n",
        "\n",
        "* Forward propagation: computes the output of our linear model.\n",
        "* Backpropagation: used to train our linear model to calculate the global minimum of the loss function.\n",
        "\n",
        "> 🤔 What is a chain rule?\n",
        "\n",
        "<a href=\"http://datahacker.rs/004-computational-graph-and-autograd-with-pytorch/\"><img src=\"https://su2.utia.cas.cz/files/labs/23-201/backprop.jpg\"></a>\n",
        "\n",
        "$$\n",
        "\\begin{aligned}\n",
        " \\frac{\\partial{J}}{\\partial{J}} &= 1\n",
        "\\\\\n",
        "\\frac{\\partial{J}}{\\partial{e}} &= \\frac{\\partial{J}}{\\partial{J}}\\frac{\\partial{J}}{\\partial{e}} = \\frac{\\partial{J}}{\\partial{J}}\\frac{\\partial{e^2}}{\\partial{e}} = 1 \\cdot 2e\n",
        "\\\\\n",
        "\\frac{\\partial{J}}{\\partial{\\hat{y}}} &= \\frac{\\partial{J}}{\\partial{e}}\\frac{\\partial{e}}{\\partial{\\hat{y}}} = \\frac{\\partial{J}}{\\partial{e}}\\frac{\\partial{(\\hat{y}-y)}}{\\partial{\\hat{y}}} = 2e \\cdot 1\n",
        "\\\\\n",
        "\\frac{\\partial{J}}{\\partial{u}} &= \\frac{\\partial{J}}{\\partial{\\hat{y}}}\\frac{\\partial{\\hat{y}}}{\\partial{u}} = \\frac{\\partial{J}}{\\partial{\\hat{y}}}\\frac{\\partial{(u+b)}}{\\partial{u}} = 2e \\cdot 1\n",
        "\\\\\n",
        "\\frac{\\partial{J}}{\\partial{w}} &= \\frac{\\partial{J}}{\\partial{\\hat{u}}}\\frac{\\partial{u}}{\\partial{w}} = \\frac{\\partial{J}}{\\partial{u}}\\frac{\\partial{xw}}{\\partial{w}} = 2e \\cdot x \\qquad\\qquad\\qquad  \\frac{\\partial{J}}{\\partial{w}} = 16\n",
        "\\\\\n",
        "\\frac{\\partial{J}}{\\partial{b}} &= \\frac{\\partial{J}}{\\partial{\\hat{y}}}\\frac{\\partial{\\hat{y}}}{\\partial{b}} = \\frac{\\partial{J}}{\\partial{\\hat{y}}}\\frac{\\partial{(u+b)}}{\\partial{b}} = 2e \\cdot 1 \\qquad\\qquad  \\frac{\\partial{J}}{\\partial{b}} = 8\n",
        "\\end{aligned}\n",
        "$$\n",
        "\n",
        "And now we could update parameters:\n",
        "\n",
        "$$\n",
        "\\begin{aligned}\n",
        "& w = w - \\eta \\frac{\\partial{J}}{\\partial{w}}\n",
        "\\\\\n",
        "& b = b - \\eta \\frac{\\partial{J}}{\\partial{b}}\n",
        "\\end{aligned}\n",
        "$$\n",
        "<br />\n",
        "\n",
        "Let's use $\\eta = 0.1$\n",
        "\n",
        "$$\n",
        "\\begin{aligned}\n",
        "& w_{new} = w_{old} - \\eta \\frac{\\partial{J}}{\\partial{w}} = 5-0.1\\cdot16 = 3.4\n",
        "\\\\\n",
        "& b_{new} = b_{old} - \\eta \\frac{\\partial{J}}{\\partial{b}} = 3-0.1\\cdot8 = 2.2\n",
        "\\\\\\\\\n",
        "& \\hat{y} = w_{new} \\cdot x + b_{new} = 3.4\\cdot2 + 2.2 = 9 = y\n",
        "\\end{aligned}\n",
        "$$\n",
        "<br />\n",
        "\n",
        "\n",
        "\n",
        "\n",
        "For more complex models, computation of the gradients is not such an easy task. In particular, for deep neural networks with multiple layers, we need to efficiently compute gradients in the model with a huge number of parameters.\n",
        "\n",
        "...leave it to Pytorch Autograd!\n",
        "\n"
      ]
    },
    {
      "cell_type": "markdown",
      "metadata": {
        "id": "8lO-AwictSo5"
      },
      "source": [
        "## Autograd\n",
        "\n",
        "...no more manual computation of gradients!\n",
        "\n",
        "<a href=\"(https://miro.medium.com/max/2000/1*7w9w0tGu5pPSBeS6FbbzEQ.png\"><img src=\"https://su2.utia.cas.cz/files/labs/23-201/autograd.png\"></a>\n",
        "\n"
      ]
    },
    {
      "cell_type": "code",
      "metadata": {
        "id": "WhfJT_RdtSo5",
        "colab": {
          "base_uri": "https://localhost:8080/"
        },
        "outputId": "a5373425-806c-4e74-c8de-74ec2361cc2a"
      },
      "source": [
        "x =  torch.as_tensor(np.array(2)).float().to(device)\n",
        "y = torch.as_tensor(np.array(9)).float().to(device)\n",
        "\n",
        "b = torch.as_tensor(np.array(3)).float().to(device)\n",
        "w = torch.as_tensor(np.array(5)).float().to(device)\n",
        "\n",
        "print(f'x = {x:.0f}')\n",
        "print(f'y = {y:.0f}\\n')\n",
        "\n",
        "print(f'w_old = {w:.1f}')\n",
        "print(f'b_old = {b:.1f}')\n",
        "print(f'yhat = w*x + b = {w * x + b:.0f} \\n')\n",
        "\n",
        "b.requires_grad_()\n",
        "w.requires_grad_()\n",
        "\n",
        "# Step 1 - Compute model's predictions\n",
        "yhat = w * x + b\n",
        "\n",
        "# Step 2 - Compute the loss\n",
        "error = (yhat - y)\n",
        "loss = (error ** 2).mean()\n",
        "\n",
        "# Step 3 - Compute the gradients - NEW - AUTOMATIC!!!\n",
        "loss.backward()\n",
        "\n",
        "lr = 0.1\n",
        "\n",
        "# Step 4 - Update the parameters\n",
        "with torch.no_grad():\n",
        "    b -= lr * b.grad\n",
        "    w -= lr * w.grad\n",
        "\n",
        "print(f'w_new = {w:.1f}')\n",
        "print(f'b_new = {b:.1f}')\n",
        "print(f'yhat = w*x + b = {w * x + b:.0f}')"
      ],
      "execution_count": 22,
      "outputs": [
        {
          "output_type": "stream",
          "name": "stdout",
          "text": [
            "x = 2\n",
            "y = 9\n",
            "\n",
            "w_old = 5.0\n",
            "b_old = 3.0\n",
            "yhat = w*x + b = 13 \n",
            "\n",
            "w_new = 3.4\n",
            "b_new = 2.2\n",
            "yhat = w*x + b = 9\n"
          ]
        }
      ]
    },
    {
      "cell_type": "code",
      "metadata": {
        "colab": {
          "base_uri": "https://localhost:8080/"
        },
        "id": "sf8J02jonOu3",
        "outputId": "6276ed03-1ec5-41fe-e22e-0b54d958ac7f"
      },
      "source": [
        "print(b.grad)\n",
        "print(w.grad)"
      ],
      "execution_count": 23,
      "outputs": [
        {
          "output_type": "stream",
          "name": "stdout",
          "text": [
            "tensor(8., device='cuda:0')\n",
            "tensor(16., device='cuda:0')\n"
          ]
        }
      ]
    },
    {
      "cell_type": "markdown",
      "metadata": {
        "id": "ma18KC6ryYcZ"
      },
      "source": [
        "### Requiring gradients"
      ]
    },
    {
      "cell_type": "code",
      "metadata": {
        "id": "INtyZO86yT8d",
        "colab": {
          "base_uri": "https://localhost:8080/"
        },
        "outputId": "3f498f79-d53e-4829-86bb-37ce76f48221"
      },
      "source": [
        "print(error.requires_grad, yhat.requires_grad, b.requires_grad, w.requires_grad)\n",
        "print(y.requires_grad, x.requires_grad)"
      ],
      "execution_count": 24,
      "outputs": [
        {
          "output_type": "stream",
          "name": "stdout",
          "text": [
            "True True True True\n",
            "False False\n"
          ]
        }
      ]
    },
    {
      "cell_type": "markdown",
      "metadata": {
        "id": "TStUCuTCtSo7"
      },
      "source": [
        "### Training with Autograd\n",
        "\n",
        "Let us recall our Numpy training. Than compare it with Pytorch Autograd version."
      ]
    },
    {
      "cell_type": "code",
      "metadata": {
        "id": "5rExecO8uT-O",
        "colab": {
          "base_uri": "https://localhost:8080/"
        },
        "outputId": "ce715758-f945-48da-e995-20c03eb70f1b"
      },
      "source": [
        "# Numpy version\n",
        "\n",
        "print(f'Ground-truth parameters:\\n\\t w = 2, b = 1')\n",
        "\n",
        "# Step 0 - Random initialization\n",
        "np.random.seed(42)\n",
        "b = np.random.randn(1)\n",
        "w = np.random.randn(1)\n",
        "\n",
        "print(f'Initial parameters:\\n\\t w = {w}, b = {b}')\n",
        "\n",
        "lr = 0.1\n",
        "n_epochs = 1000\n",
        "\n",
        "for epoch in range(n_epochs):\n",
        "    # Step 1 - Compute model's predictions\n",
        "    yhat = b + w * x_train\n",
        "\n",
        "    # Step 2 - Compute the loss\n",
        "    error = (yhat - y_train)\n",
        "    loss = (error ** 2).mean()\n",
        "\n",
        "    # Step 3 - Compute the gradients\n",
        "    b_grad = 2 * error.mean()\n",
        "    w_grad = 2 * (x_train * error).mean()\n",
        "\n",
        "    # Step 4 - Update the parameters\n",
        "    b = b - lr * b_grad\n",
        "    w = w - lr * w_grad\n",
        "\n",
        "print(f'Parameters after learning:\\n\\t w = {w}, b = {b}')\n"
      ],
      "execution_count": 25,
      "outputs": [
        {
          "output_type": "stream",
          "name": "stdout",
          "text": [
            "Ground-truth parameters:\n",
            "\t w = 2, b = 1\n",
            "Initial parameters:\n",
            "\t w = [-0.1382643], b = [0.49671415]\n",
            "Parameters after learning:\n",
            "\t w = [1.96896411], b = [1.02354094]\n"
          ]
        }
      ]
    },
    {
      "cell_type": "code",
      "metadata": {
        "id": "WQrGui3ptSo7",
        "colab": {
          "base_uri": "https://localhost:8080/"
        },
        "outputId": "c38171e6-e4db-4a9b-91a8-ad0d16f9d7e9"
      },
      "source": [
        "# New version - Pytorch Autograd\n",
        "\n",
        "print(f'Ground-truth parameters:\\n\\t w = 2, b = 1')\n",
        "\n",
        "# Step 0 - Random initialization\n",
        "torch.manual_seed(42)\n",
        "b = torch.randn(1, requires_grad=True, \\\n",
        "                dtype=torch.float, device=device)\n",
        "w = torch.randn(1, requires_grad=True, \\\n",
        "                dtype=torch.float, device=device)\n",
        "\n",
        "print(f'Initial parameters:\\n\\t w = {w}, b = {b}')\n",
        "\n",
        "lr = 0.1\n",
        "n_epochs = 1000\n",
        "\n",
        "for epoch in range(n_epochs):\n",
        "    # Step 1 - Compute model's predictions\n",
        "    yhat = b + w * x_train_tensor\n",
        "\n",
        "    # Step 2 - Compute the loss\n",
        "    error = (yhat - y_train_tensor)\n",
        "    loss = (error ** 2).mean()\n",
        "\n",
        "    # Step 3 - Compute the gradients !!!\n",
        "    loss.backward()\n",
        "\n",
        "    # Step 4 - Update the parameters\n",
        "    with torch.no_grad():\n",
        "        b -= lr * b.grad\n",
        "        w -= lr * w.grad\n",
        "\n",
        "    b.grad.zero_()\n",
        "    w.grad.zero_()\n",
        "\n",
        "print(f'Parameters after learning:\\n\\t w = {w}, b = {b}')"
      ],
      "execution_count": 26,
      "outputs": [
        {
          "output_type": "stream",
          "name": "stdout",
          "text": [
            "Ground-truth parameters:\n",
            "\t w = 2, b = 1\n",
            "Initial parameters:\n",
            "\t w = tensor([0.1391], device='cuda:0', requires_grad=True), b = tensor([0.1940], device='cuda:0', requires_grad=True)\n",
            "Parameters after learning:\n",
            "\t w = tensor([1.9690], device='cuda:0', requires_grad=True), b = tensor([1.0235], device='cuda:0', requires_grad=True)\n"
          ]
        }
      ]
    },
    {
      "cell_type": "markdown",
      "metadata": {
        "id": "2YPmlMOkzyoF"
      },
      "source": [
        "> 🤔 Why not to use `b = b - lr * b.grad` instead of `b -= lr * b.grad`?\n",
        "\n",
        "> 😎 Do you remember what does `device='cuda:0'` and `requires_grad=True` mean?"
      ]
    },
    {
      "cell_type": "markdown",
      "metadata": {
        "id": "8RkhXL90tSo8"
      },
      "source": [
        "## Optimizer\n",
        "...no more manual updates of the parameters.\n",
        "\n",
        "<img src=\"https://su2.utia.cas.cz/files/labs/23-201/optimizer.png\">"
      ]
    },
    {
      "cell_type": "code",
      "metadata": {
        "id": "ECaYA4QM2E_A",
        "colab": {
          "base_uri": "https://localhost:8080/"
        },
        "outputId": "8eeeb4e1-a33a-4202-9282-b873e572b243"
      },
      "source": [
        "# New version - Pytorch Autograd + optimizer\n",
        "\n",
        "print(f'Ground-truth parameters:\\n\\t w = 2, b = 1')\n",
        "\n",
        "# Step 0 - Random initialization\n",
        "torch.manual_seed(42)\n",
        "b = torch.randn(1, requires_grad=True, \\\n",
        "                dtype=torch.float, device=device)\n",
        "w = torch.randn(1, requires_grad=True, \\\n",
        "                dtype=torch.float, device=device)\n",
        "\n",
        "print(f'Initial parameters:\\n\\t w = {w}, b = {b}')\n",
        "\n",
        "lr = 0.1\n",
        "n_epochs = 1000\n",
        "\n",
        "# Defines a Stochastic Gradient Descent optimizer to update the parameters\n",
        "optimizer = optim.SGD([b, w], lr=lr)\n",
        "\n",
        "for epoch in range(n_epochs):\n",
        "    # Step 1 - Compute model's predictions\n",
        "    yhat = b + w * x_train_tensor\n",
        "\n",
        "    # Step 2 - Compute the loss\n",
        "    error = (yhat - y_train_tensor)\n",
        "    loss = (error ** 2).mean()\n",
        "\n",
        "    # Step 3 - Compute the gradients\n",
        "    loss.backward()\n",
        "\n",
        "    # Step 4 - Update the parameters !!!\n",
        "    optimizer.step()\n",
        "    optimizer.zero_grad()\n",
        "\n",
        "print(f'Parameters after learning:\\n\\t w = {w}, b = {b}')"
      ],
      "execution_count": 27,
      "outputs": [
        {
          "output_type": "stream",
          "name": "stdout",
          "text": [
            "Ground-truth parameters:\n",
            "\t w = 2, b = 1\n",
            "Initial parameters:\n",
            "\t w = tensor([0.1391], device='cuda:0', requires_grad=True), b = tensor([0.1940], device='cuda:0', requires_grad=True)\n",
            "Parameters after learning:\n",
            "\t w = tensor([1.9690], device='cuda:0', requires_grad=True), b = tensor([1.0235], device='cuda:0', requires_grad=True)\n"
          ]
        }
      ]
    },
    {
      "cell_type": "markdown",
      "metadata": {
        "id": "-j3J5qYzGoIy"
      },
      "source": [
        "### Check the optimizer"
      ]
    },
    {
      "cell_type": "code",
      "metadata": {
        "id": "4A6JSlHTGq2M",
        "colab": {
          "base_uri": "https://localhost:8080/"
        },
        "outputId": "6b48c731-fb6d-43d5-c045-ae02c9cffd0e"
      },
      "source": [
        "optimizer.state_dict()"
      ],
      "execution_count": 28,
      "outputs": [
        {
          "output_type": "execute_result",
          "data": {
            "text/plain": [
              "{'state': {0: {'momentum_buffer': None}, 1: {'momentum_buffer': None}},\n",
              " 'param_groups': [{'lr': 0.1,\n",
              "   'momentum': 0,\n",
              "   'dampening': 0,\n",
              "   'weight_decay': 0,\n",
              "   'nesterov': False,\n",
              "   'maximize': False,\n",
              "   'foreach': None,\n",
              "   'differentiable': False,\n",
              "   'params': [0, 1]}]}"
            ]
          },
          "metadata": {},
          "execution_count": 28
        }
      ]
    },
    {
      "cell_type": "markdown",
      "metadata": {
        "id": "jVe8jpZXtSo9"
      },
      "source": [
        "## Loss function\n",
        "...no more manual loss computation.\n",
        "\n",
        "<a href=\"https://www.cs.umd.edu/~tomg/projects/landscapes/\"><img src=\"https://su2.utia.cas.cz/files/labs/23-201/loss.png\"></a>\n",
        "\n",
        "> 😎 Discover the [Loss landscape](https://www.youtube.com/watch?v=g0zOEcPix2w)"
      ]
    },
    {
      "cell_type": "code",
      "metadata": {
        "id": "nBKcUHuE7Dl7",
        "colab": {
          "base_uri": "https://localhost:8080/"
        },
        "outputId": "47dd20f8-3179-40dc-a9f8-cf9d5b50b3eb"
      },
      "source": [
        "# New version - Pytorch Autograd + optimizer + loss function\n",
        "\n",
        "print(f'Ground-truth parameters:\\n\\t w = 2, b = 1')\n",
        "\n",
        "# Step 0 - Random initialization\n",
        "torch.manual_seed(42)\n",
        "b = torch.randn(1, requires_grad=True, \\\n",
        "                dtype=torch.float, device=device)\n",
        "w = torch.randn(1, requires_grad=True, \\\n",
        "                dtype=torch.float, device=device)\n",
        "\n",
        "print(f'Initial parameters:\\n\\t w = {w}, b = {b}')\n",
        "\n",
        "lr = 0.1\n",
        "n_epochs = 1000\n",
        "\n",
        "# Defines a Stochastic Gradient Descent optimizer to update the parameters\n",
        "optimizer = optim.SGD([b, w], lr=lr)\n",
        "\n",
        "# Defines a Mean squared error loss function\n",
        "loss_fn = nn.MSELoss(reduction='mean')\n",
        "\n",
        "for epoch in range(n_epochs):\n",
        "    # Step 1 - Compute model's predictions\n",
        "    yhat = b + w * x_train_tensor\n",
        "\n",
        "    # Step 2 - Compute the loss !!!\n",
        "    loss = loss_fn(yhat, y_train_tensor)\n",
        "\n",
        "    # Step 3 - Compute the gradients\n",
        "    loss.backward()\n",
        "\n",
        "    # Step 4 - Update the parameters\n",
        "    optimizer.step()\n",
        "    optimizer.zero_grad()\n",
        "\n",
        "print(f'Parameters after learning:\\n\\t w = {w}, b = {b}')"
      ],
      "execution_count": 29,
      "outputs": [
        {
          "output_type": "stream",
          "name": "stdout",
          "text": [
            "Ground-truth parameters:\n",
            "\t w = 2, b = 1\n",
            "Initial parameters:\n",
            "\t w = tensor([0.1391], device='cuda:0', requires_grad=True), b = tensor([0.1940], device='cuda:0', requires_grad=True)\n",
            "Parameters after learning:\n",
            "\t w = tensor([1.9690], device='cuda:0', requires_grad=True), b = tensor([1.0235], device='cuda:0', requires_grad=True)\n"
          ]
        }
      ]
    },
    {
      "cell_type": "markdown",
      "metadata": {
        "id": "Ub2TmQiUAsYT"
      },
      "source": [
        "### Check the loss"
      ]
    },
    {
      "cell_type": "code",
      "metadata": {
        "id": "Oy9Tbs-MtSo-",
        "colab": {
          "base_uri": "https://localhost:8080/"
        },
        "outputId": "4a402204-e2fe-4aa6-f824-dbe7492b6875"
      },
      "source": [
        "loss"
      ],
      "execution_count": 30,
      "outputs": [
        {
          "output_type": "execute_result",
          "data": {
            "text/plain": [
              "tensor(0.0080, device='cuda:0', grad_fn=<MseLossBackward0>)"
            ]
          },
          "metadata": {},
          "execution_count": 30
        }
      ]
    },
    {
      "cell_type": "code",
      "metadata": {
        "id": "n5aulepABfpr",
        "colab": {
          "base_uri": "https://localhost:8080/"
        },
        "outputId": "d9cf8f0c-9643-494a-f81d-3cdd6c407e89"
      },
      "source": [
        "loss.item()"
      ],
      "execution_count": 31,
      "outputs": [
        {
          "output_type": "execute_result",
          "data": {
            "text/plain": [
              "0.008044655434787273"
            ]
          },
          "metadata": {},
          "execution_count": 31
        }
      ]
    },
    {
      "cell_type": "code",
      "metadata": {
        "id": "85mTxt8ntSo-",
        "colab": {
          "base_uri": "https://localhost:8080/"
        },
        "outputId": "58351182-3afa-4c01-d7ac-208705dfc61b"
      },
      "source": [
        "loss.detach().cpu().numpy()"
      ],
      "execution_count": 32,
      "outputs": [
        {
          "output_type": "execute_result",
          "data": {
            "text/plain": [
              "array(0.00804466, dtype=float32)"
            ]
          },
          "metadata": {},
          "execution_count": 32
        }
      ]
    },
    {
      "cell_type": "markdown",
      "metadata": {
        "id": "tiTbymSZBwAt"
      },
      "source": [
        "> 🤔 What is `Tensor.detach()`?"
      ]
    },
    {
      "cell_type": "markdown",
      "metadata": {
        "id": "-x2yI896tSo_"
      },
      "source": [
        "## Model\n",
        "\n",
        "...no more manual predictions.\n",
        "\n",
        "<a href=\"http://media5.datahacker.rs/2021/01/151-1.jpg\"><img src=\"https://su2.utia.cas.cz/files/labs/23-201/lin_reg_intro.jpg\"></a>"
      ]
    },
    {
      "cell_type": "code",
      "metadata": {
        "id": "QXSH32M8tSo_",
        "colab": {
          "base_uri": "https://localhost:8080/"
        },
        "outputId": "0c9eea9e-94b7-4268-dab6-8211fe4257db"
      },
      "source": [
        "# New version - Pytorch Autograd + optimizer + loss function + model\n",
        "\n",
        "class ManualLinearRegression(nn.Module):\n",
        "    def __init__(self):\n",
        "        super().__init__()\n",
        "        # Step 0 - Random initialization\n",
        "        torch.manual_seed(42)\n",
        "        self.b = nn.Parameter(torch.randn(1, requires_grad=True, dtype=torch.float))\n",
        "        self.w = nn.Parameter(torch.randn(1, requires_grad=True, dtype=torch.float))\n",
        "        print(f'Initial parameters:\\n\\t w = {w}, b = {b}')\n",
        "\n",
        "    def forward(self, x):\n",
        "        return  self.w * x + self.b\n",
        "\n",
        "print(f'Ground-truth parameters:\\n\\t w = 2, b = 1')\n",
        "\n",
        "lr = 0.1\n",
        "n_epochs = 1000\n",
        "\n",
        "# Now we can create a model and send it at once to the device\n",
        "model = ManualLinearRegression().to(device)\n",
        "\n",
        "# Defines a Stochastic Gradient Descent optimizer to update the parameters\n",
        "optimizer = optim.SGD(model.parameters(), lr=lr)\n",
        "\n",
        "# Defines a Mean squared error loss function\n",
        "loss_fn = nn.MSELoss(reduction='mean')\n",
        "\n",
        "for epoch in range(n_epochs):\n",
        "    model.train()\n",
        "    # Step 1 - Compute model's predictions !!!\n",
        "    yhat = model(x_train_tensor)\n",
        "\n",
        "    # Step 2 - Compute the loss\n",
        "    loss = loss_fn(yhat, y_train_tensor)\n",
        "\n",
        "    # Step 3 - Compute the gradients\n",
        "    loss.backward()\n",
        "\n",
        "    # Step 4 - Update the parameters\n",
        "    optimizer.step()\n",
        "    optimizer.zero_grad()\n",
        "\n",
        "print(f'Parameters after learning:\\n\\t w = {model.state_dict()[\"w\"].item()}, b = {model.state_dict()[\"b\"].item()}')\n"
      ],
      "execution_count": 33,
      "outputs": [
        {
          "output_type": "stream",
          "name": "stdout",
          "text": [
            "Ground-truth parameters:\n",
            "\t w = 2, b = 1\n",
            "Initial parameters:\n",
            "\t w = tensor([1.9690], device='cuda:0', requires_grad=True), b = tensor([1.0235], device='cuda:0', requires_grad=True)\n",
            "Parameters after learning:\n",
            "\t w = 1.9689600467681885, b = 1.023543119430542\n"
          ]
        }
      ]
    },
    {
      "cell_type": "markdown",
      "metadata": {
        "id": "b1Ed8QOkG9KR"
      },
      "source": [
        "> 🤔 What is `model.train()` for?"
      ]
    },
    {
      "cell_type": "markdown",
      "metadata": {
        "id": "ptZdUxHSGQGT"
      },
      "source": [
        "### Check the model"
      ]
    },
    {
      "cell_type": "code",
      "metadata": {
        "id": "Yo_kLnXqF3CQ",
        "colab": {
          "base_uri": "https://localhost:8080/"
        },
        "outputId": "593d23d6-37a1-46dc-adb5-79fff5df2670"
      },
      "source": [
        "print(model.state_dict())"
      ],
      "execution_count": 34,
      "outputs": [
        {
          "output_type": "stream",
          "name": "stdout",
          "text": [
            "OrderedDict([('b', tensor([1.0235], device='cuda:0')), ('w', tensor([1.9690], device='cuda:0'))])\n"
          ]
        }
      ]
    },
    {
      "cell_type": "code",
      "metadata": {
        "id": "P4y1RUVAGZv8",
        "colab": {
          "base_uri": "https://localhost:8080/"
        },
        "outputId": "9a38e6a0-3421-4045-9e06-ac4453216339"
      },
      "source": [
        "list(model.parameters())"
      ],
      "execution_count": 35,
      "outputs": [
        {
          "output_type": "execute_result",
          "data": {
            "text/plain": [
              "[Parameter containing:\n",
              " tensor([1.0235], device='cuda:0', requires_grad=True),\n",
              " Parameter containing:\n",
              " tensor([1.9690], device='cuda:0', requires_grad=True)]"
            ]
          },
          "metadata": {},
          "execution_count": 35
        }
      ]
    },
    {
      "cell_type": "markdown",
      "metadata": {
        "id": "B71xmmFGtSpA"
      },
      "source": [
        "### Let's simplify model declaration"
      ]
    },
    {
      "cell_type": "code",
      "metadata": {
        "id": "inHH4toptSpA",
        "colab": {
          "base_uri": "https://localhost:8080/"
        },
        "outputId": "7cd1122d-8a61-4964-dd86-0c95c9187ee0"
      },
      "source": [
        "# New version - Pytorch Autograd + optimizer + loss function + model\n",
        "\n",
        "class ManualLinearRegression(nn.Module):\n",
        "    def __init__(self):\n",
        "        super().__init__()\n",
        "        self.linear = nn.Linear(1, 1)\n",
        "\n",
        "    def forward(self, x):\n",
        "        return self.linear(x)\n",
        "\n",
        "print(f'Ground-truth parameters:\\n\\t w = 2, b = 1')\n",
        "\n",
        "lr = 0.1\n",
        "n_epochs = 1000\n",
        "\n",
        "# Now we can create a model and send it at once to the device\n",
        "model = ManualLinearRegression().to(device)\n",
        "\n",
        "# Defines a Stochastic Gradient Descent optimizer to update the parameters\n",
        "optimizer = optim.SGD(model.parameters(), lr=lr)\n",
        "\n",
        "# Defines a Mean squared error loss function\n",
        "loss_fn = nn.MSELoss(reduction='mean')\n",
        "\n",
        "for epoch in range(n_epochs):\n",
        "    model.train()\n",
        "    # Step 1 - Compute model's predictions\n",
        "    yhat = model(x_train_tensor)\n",
        "\n",
        "    # Step 2 - Compute the loss\n",
        "    loss = loss_fn(yhat, y_train_tensor)\n",
        "\n",
        "    # Step 3 - Compute the gradients\n",
        "    loss.backward()\n",
        "\n",
        "    # Step 4 - Update the parameters\n",
        "    optimizer.step()\n",
        "    optimizer.zero_grad()\n",
        "\n",
        "print(f'Parameters after learning:\\n\\t w = {model.state_dict()[\"linear.weight\"].item()}, b = {model.state_dict()[\"linear.bias\"].item()}')"
      ],
      "execution_count": 36,
      "outputs": [
        {
          "output_type": "stream",
          "name": "stdout",
          "text": [
            "Ground-truth parameters:\n",
            "\t w = 2, b = 1\n",
            "Parameters after learning:\n",
            "\t w = 1.9689600467681885, b = 1.023543119430542\n"
          ]
        }
      ]
    },
    {
      "cell_type": "markdown",
      "metadata": {
        "id": "fJEHe60PJJlJ"
      },
      "source": [
        "> 🤔 Where is Step 0?"
      ]
    },
    {
      "cell_type": "markdown",
      "metadata": {
        "id": "ALveXw1BtSpB"
      },
      "source": [
        "### Let's simplify it even more ⭐⭐⭐"
      ]
    },
    {
      "cell_type": "code",
      "metadata": {
        "id": "iu-RHPy_KNsZ",
        "colab": {
          "base_uri": "https://localhost:8080/"
        },
        "outputId": "65e703b6-0967-4175-d16b-b239bac59915"
      },
      "source": [
        "# New version - Pytorch Autograd + optimizer + loss function + model\n",
        "\n",
        "print(f'Ground-truth parameters:\\n\\t w = 2, b = 1')\n",
        "\n",
        "lr = 0.1\n",
        "n_epochs = 1000\n",
        "\n",
        "# Now we can create a model and send it at once to the device\n",
        "model = nn.Sequential(nn.Linear(1, 1)).to(device)\n",
        "\n",
        "# Defines a Stochastic Gradient Descent optimizer to update the parameters\n",
        "optimizer = optim.SGD(model.parameters(), lr=lr)\n",
        "\n",
        "# Defines a Mean squared error loss function\n",
        "loss_fn = nn.MSELoss(reduction='mean')\n",
        "\n",
        "for epoch in range(n_epochs):\n",
        "    model.train()\n",
        "    # Step 1 - Compute model's predictions\n",
        "    yhat = model(x_train_tensor)\n",
        "\n",
        "    # Step 2 - Compute the loss\n",
        "    loss = loss_fn(yhat, y_train_tensor)\n",
        "\n",
        "    # Step 3 - Compute the gradients\n",
        "    loss.backward()\n",
        "\n",
        "    # Step 4 - Update the parameters\n",
        "    optimizer.step()\n",
        "    optimizer.zero_grad()\n",
        "\n",
        "print(f'Parameters after learning:\\n\\t w = {model.state_dict()[\"0.weight\"].item()}, b = {model.state_dict()[\"0.bias\"].item()}')"
      ],
      "execution_count": 37,
      "outputs": [
        {
          "output_type": "stream",
          "name": "stdout",
          "text": [
            "Ground-truth parameters:\n",
            "\t w = 2, b = 1\n",
            "Parameters after learning:\n",
            "\t w = 1.9689600467681885, b = 1.023543119430542\n"
          ]
        }
      ]
    },
    {
      "cell_type": "markdown",
      "metadata": {
        "id": "UYQtpakztSpC"
      },
      "source": [
        "### Spoiler - how to add more layers?"
      ]
    },
    {
      "cell_type": "code",
      "metadata": {
        "id": "oK5eIAcptSpC",
        "colab": {
          "base_uri": "https://localhost:8080/"
        },
        "outputId": "de486f75-e424-48ee-8e4b-b90ea0e57449"
      },
      "source": [
        "model = nn.Sequential()\n",
        "model.add_module('layer1', nn.Linear(3, 5))\n",
        "model.add_module('layer2', nn.Linear(5, 1))\n",
        "model.to(device)"
      ],
      "execution_count": 38,
      "outputs": [
        {
          "output_type": "execute_result",
          "data": {
            "text/plain": [
              "Sequential(\n",
              "  (layer1): Linear(in_features=3, out_features=5, bias=True)\n",
              "  (layer2): Linear(in_features=5, out_features=1, bias=True)\n",
              ")"
            ]
          },
          "metadata": {},
          "execution_count": 38
        }
      ]
    },
    {
      "cell_type": "markdown",
      "metadata": {
        "id": "3QOsAAhEyFBU"
      },
      "source": [
        "Or"
      ]
    },
    {
      "cell_type": "code",
      "metadata": {
        "id": "1S7UVJyCyFwU"
      },
      "source": [
        "model = nn.Sequential(nn.Linear(3, 5), nn.Linear(5, 1)).to(device)"
      ],
      "execution_count": 39,
      "outputs": []
    },
    {
      "cell_type": "markdown",
      "metadata": {
        "id": "XuQgziWBwHXb"
      },
      "source": [
        "> 😎 There are many different layers that can be used in PyTorch:\n",
        "* [Linear Layers](https://pytorch.org/docs/stable/nn.html#linear-layers),\n",
        "* [Convolution Layers](https://pytorch.org/docs/stable/nn.html#convolution-layers),\n",
        "* [Pooling Layers](https://pytorch.org/docs/stable/nn.html#pooling-layers),\n",
        "* [Padding Layers](https://pytorch.org/docs/stable/nn.html#padding-layers),\n",
        "* [Non-linear Activations](https://pytorch.org/docs/stable/nn.html#non-linear-activations-weighted-sum-nonlinearity),\n",
        "* [Normalization Layers](https://pytorch.org/docs/stable/nn.html#normalization-layers),\n",
        "* [Recurrent Layers](https://pytorch.org/docs/stable/nn.html#recurrent-layers),\n",
        "* [Transformer Layers](https://pytorch.org/docs/stable/nn.html#transformer-layers),\n",
        "* [Dropout Layers](https://pytorch.org/docs/stable/nn.html#dropout-layers),\n",
        "* [Sparse Layers](https://pytorch.org/docs/stable/nn.html#sparse-layers),\n",
        "* [Vision Layers](https://pytorch.org/docs/stable/nn.html#vision-layers),\n",
        "* [Flatten Layer](https://pytorch.org/docs/stable/generated/torch.nn.Flatten.html#torch.nn.Flatten)."
      ]
    },
    {
      "cell_type": "markdown",
      "metadata": {
        "id": "Ma8DLQbW9ntR"
      },
      "source": [
        "## ✍🏼 Excercise 4\n",
        "\n",
        "a) Which of these losses can be used in Linear regression above (⭐⭐⭐)?\n",
        "\n",
        "* [Mean Absolute Error (L1 Loss Function)](https://pytorch.org/docs/stable/generated/torch.nn.L1Loss.html#torch.nn.L1Loss)\n",
        "* [Mean Squared Error Loss Function](https://pytorch.org/docs/stable/generated/torch.nn.MSELoss.html#torch.nn.MSELoss)\n",
        "* [Negative Log-Likelihood Loss Function](https://pytorch.org/docs/stable/generated/torch.nn.NLLLoss.html#torch.nn.NLLLoss)\n",
        "* [Cross-Entropy Loss Function](https://pytorch.org/docs/stable/generated/torch.nn.CrossEntropyLoss.html#torch.nn.CrossEntropyLoss)\n",
        "* [Hinge Embedding Loss Function](https://pytorch.org/docs/stable/generated/torch.nn.HingeEmbeddingLoss.html#torch.nn.HingeEmbeddingLoss)\n",
        "* [Triplet Margin Loss Function](https://pytorch.org/docs/stable/generated/torch.nn.TripletMarginLoss.html#torch.nn.TripletMarginLoss)\n",
        "* [Kullback-Leibler Divergence Loss Function](https://pytorch.org/docs/stable/generated/torch.nn.KLDivLoss.html#torch.nn.KLDivLoss)\n",
        "* [Huber Loss Function](https://pytorch.org/docs/stable/generated/torch.nn.HuberLoss.html)\n",
        "\n",
        "Your answer: ...\n",
        "* Mean Absolute Error (L1 Loss Function)\n",
        "* Mean Squared Error Loss Function\n",
        "* Huber Loss Function\n",
        "<br /><br />\n",
        "\n",
        "b) Pytorch (a `torch.optim` package) implements various optimization algorithms. The two most widely used optimizing techniques are stochastic gradient descent ([`optim.SGD`](https://pytorch.org/docs/stable/generated/torch.optim.SGD.html#torch.optim.SGD)) and Adam’s Method ([`optim.Adam`](https://pytorch.org/docs/stable/generated/torch.optim.Adam.html#torch.optim.Adam)).\n",
        "\n",
        "What are the pros and cons of these two popular optimization algorithms?\n",
        "\n",
        "Your answer:\n",
        "* Stochastic Gradient Descent:\n",
        "  * Pros:\n",
        "    * Simplicity.\n",
        "    * Uses less memory.\n",
        "    * Convex optimization: known convergence properties.\n",
        "  * Cons:\n",
        "    * Lower convergence speed.\n",
        "    * Sensitive to learning rate selection.\n",
        "    * Can get stuck in local minimum.\n",
        "\n",
        "* Adam’s Method:\n",
        "  * Pros:\n",
        "    * Higher convergence speed.\n",
        "    * Less sensitive to learning rate selection.\n",
        "  * Cons:\n",
        "    * Computationally more expensive.\n",
        "    * Potential overfitting.\n",
        "    * Non-convex optimization issues.\n"
      ]
    },
    {
      "cell_type": "markdown",
      "metadata": {
        "id": "OfPaCl1xyodM"
      },
      "source": [
        "# Part 4: Dataset and Dataloader"
      ]
    },
    {
      "cell_type": "markdown",
      "metadata": {
        "id": "ZQNUT47J8UAC"
      },
      "source": [
        "## Load packages"
      ]
    },
    {
      "cell_type": "code",
      "metadata": {
        "id": "2QV57lm48UAO"
      },
      "source": [
        "import torch\n",
        "import numpy as np\n",
        "import torch.optim as optim\n",
        "import torch.nn as nn\n",
        "import matplotlib.pyplot as plt\n",
        "from torch.utils.data import Dataset, TensorDataset, DataLoader"
      ],
      "execution_count": 40,
      "outputs": []
    },
    {
      "cell_type": "markdown",
      "metadata": {
        "id": "C-MHeloq3DiB"
      },
      "source": [
        "## Synthetic Data Generation\n",
        "\n",
        "$$\n",
        "\\Large y = w x + b + \\epsilon\n",
        "$$\n",
        "<br />\n",
        "Let's define:\n",
        "$$\n",
        "\\textrm{slope (weight): } w = 2\n",
        "$$\n",
        "$$\n",
        "\\textrm{intecept (bias): } b = 1\n",
        "$$\n",
        "<br />\n",
        "We will generate 100 data points $[x,y]$ according to:\n",
        "<br /><br />\n",
        "$$\n",
        "\\Large y = 2 x + 1 + \\epsilon\n",
        "$$\n",
        "where $\\epsilon$ is random noise.\n",
        "<br />\n",
        "\n",
        "Then we will split our data into training set (80 points) and validation set (20 points).\n",
        "\n",
        "<img src=\"https://su2.utia.cas.cz/files/labs/23-201/train_validation_split.png\">"
      ]
    },
    {
      "cell_type": "code",
      "metadata": {
        "id": "sqVMX3cL3DiC"
      },
      "source": [
        "true_w = 2\n",
        "true_b = 1\n",
        "N = 100\n",
        "\n",
        "# Data Generation\n",
        "np.random.seed(42)\n",
        "x = np.random.rand(N, 1)\n",
        "epsilon = (.1 * np.random.randn(N, 1))\n",
        "y = true_b + true_w * x + epsilon\n",
        "\n",
        "# Shuffles the indices\n",
        "idx = np.arange(N)\n",
        "np.random.shuffle(idx)\n",
        "\n",
        "# Uses first 80 random indices for train\n",
        "train_idx = idx[:int(N*.8)]\n",
        "# Uses the remaining indices for validation\n",
        "val_idx = idx[int(N*.8):]\n",
        "\n",
        "# Generates train and validation sets\n",
        "x_train, y_train = x[train_idx], y[train_idx]\n",
        "x_val, y_val = x[val_idx], y[val_idx]\n",
        "\n",
        "device = 'cuda' if torch.cuda.is_available() else 'cpu'\n",
        "\n",
        "x_train_tensor = torch.as_tensor(x_train).float().to(device)\n",
        "y_train_tensor = torch.as_tensor(y_train).float().to(device)\n",
        "\n",
        "x_val_tensor = torch.as_tensor(x_val).float().to(device)\n",
        "y_val_tensor = torch.as_tensor(y_val).float().to(device)"
      ],
      "execution_count": 41,
      "outputs": []
    },
    {
      "cell_type": "markdown",
      "metadata": {
        "id": "J_7WnquV2DVU"
      },
      "source": [
        "## Train-step function"
      ]
    },
    {
      "cell_type": "code",
      "metadata": {
        "id": "QIHrIL2T2G8i"
      },
      "source": [
        "def make_train_step(model, loss_fn, optimizer):\n",
        "    # Builds function that performs a step in the train loop\n",
        "    def perform_train_step(x, y):\n",
        "        # Sets model to TRAIN mode\n",
        "        model.train()\n",
        "\n",
        "        # Step 1 - Computes our model's predicted output - forward pass\n",
        "        yhat = model(x)\n",
        "        # Step 2 - Computes the loss\n",
        "        loss = loss_fn(yhat, y)\n",
        "        # Step 3 - Computes gradients for both \"a\" and \"b\" parameters\n",
        "        loss.backward()\n",
        "        # Step 4 - Updates parameters using gradients and the learning rate\n",
        "        optimizer.step()\n",
        "        optimizer.zero_grad()\n",
        "\n",
        "        # Returns the loss\n",
        "        return loss.item()\n",
        "\n",
        "    # Returns the function that will be called inside the train loop\n",
        "    return perform_train_step"
      ],
      "execution_count": 42,
      "outputs": []
    },
    {
      "cell_type": "code",
      "metadata": {
        "colab": {
          "base_uri": "https://localhost:8080/",
          "height": 499
        },
        "id": "cl10Yng-2VkN",
        "outputId": "983b37fb-6a5c-4ce3-da51-6a977687387c"
      },
      "source": [
        "print(f'Ground-truth parameters:\\n\\t w = 2, b = 1')\n",
        "\n",
        "lr = 0.1\n",
        "n_epochs = 1000\n",
        "\n",
        "# Now we can create a model and send it at once to the device\n",
        "model = nn.Sequential(nn.Linear(1, 1)).to(device)\n",
        "\n",
        "# Defines a Stochastic Gradient Descent optimizer to update the parameters\n",
        "optimizer = optim.SGD(model.parameters(), lr=lr)\n",
        "\n",
        "# Defines a Mean squared error loss function\n",
        "loss_fn = nn.MSELoss(reduction='mean')\n",
        "\n",
        "# Creates the train_step function for our model, loss function and optimizer\n",
        "train_step = make_train_step(model, loss_fn, optimizer)\n",
        "\n",
        "losses = []\n",
        "\n",
        "# For each epoch...\n",
        "for epoch in range(n_epochs):\n",
        "    # Performs one train step and returns the corresponding loss\n",
        "    loss = train_step(x_train_tensor, y_train_tensor)\n",
        "    losses.append(loss)\n",
        "\n",
        "print(f'Parameters after learning:\\n\\t w = {model.state_dict()[\"0.weight\"].item()}, b = {model.state_dict()[\"0.bias\"].item()}')\n",
        "\n",
        "# Plot the graph\n",
        "plt.plot(losses, '-', label='Losses')\n",
        "plt.legend()\n",
        "plt.show()"
      ],
      "execution_count": 43,
      "outputs": [
        {
          "output_type": "stream",
          "name": "stdout",
          "text": [
            "Ground-truth parameters:\n",
            "\t w = 2, b = 1\n",
            "Parameters after learning:\n",
            "\t w = 1.9689600467681885, b = 1.023543119430542\n"
          ]
        },
        {
          "output_type": "display_data",
          "data": {
            "text/plain": [
              "<Figure size 640x480 with 1 Axes>"
            ],
            "image/png": "[encoded data removed]"
          },
          "metadata": {}
        }
      ]
    },
    {
      "cell_type": "markdown",
      "metadata": {
        "id": "dIufsNhe-MS6"
      },
      "source": [
        "## Tensor dataset\n"
      ]
    },
    {
      "cell_type": "code",
      "metadata": {
        "id": "QJ2zpI64-Tsh",
        "colab": {
          "base_uri": "https://localhost:8080/"
        },
        "outputId": "2519caec-60f7-4bee-8ebe-39951bbb15ea"
      },
      "source": [
        "x_train_tensor = torch.from_numpy(x_train).float()\n",
        "y_train_tensor = torch.from_numpy(y_train).float()\n",
        "\n",
        "train_data = TensorDataset(x_train_tensor, y_train_tensor)\n",
        "print(train_data[0])"
      ],
      "execution_count": 44,
      "outputs": [
        {
          "output_type": "stream",
          "name": "stdout",
          "text": [
            "(tensor([0.7713]), tensor([2.4745]))\n"
          ]
        }
      ]
    },
    {
      "cell_type": "markdown",
      "metadata": {
        "id": "X6gttEeE-8HL"
      },
      "source": [
        "> 😎 We don’t want our whole training data to be loaded into GPU tensors"
      ]
    },
    {
      "cell_type": "markdown",
      "metadata": {
        "id": "JccnPFpv-cMa"
      },
      "source": [
        "## Dataloader\n",
        "\n",
        "<img src=\"https://su2.utia.cas.cz/files/labs/23-201/batch.png\">\n",
        "\n",
        "<img src=\"https://su2.utia.cas.cz/files/labs/23-201/batch_cmp.png\">\n",
        "\n",
        "* batch size N, batch size 8, batch size 1"
      ]
    },
    {
      "cell_type": "code",
      "metadata": {
        "id": "fFURIAz4-ejR"
      },
      "source": [
        "train_loader = DataLoader(dataset=train_data, batch_size=8, shuffle=True)"
      ],
      "execution_count": 45,
      "outputs": []
    },
    {
      "cell_type": "code",
      "metadata": {
        "id": "ePuCZGK9J3GK",
        "colab": {
          "base_uri": "https://localhost:8080/",
          "height": 447
        },
        "outputId": "0a1013a2-67da-428a-9309-b5577837f2a6"
      },
      "source": [
        "samples = next(iter(train_loader))\n",
        "plt.plot(samples[0], samples[1], 'bo')"
      ],
      "execution_count": 46,
      "outputs": [
        {
          "output_type": "execute_result",
          "data": {
            "text/plain": [
              "[<matplotlib.lines.Line2D at 0x7d0351c094b0>]"
            ]
          },
          "metadata": {},
          "execution_count": 46
        },
        {
          "output_type": "display_data",
          "data": {
            "text/plain": [
              "<Figure size 640x480 with 1 Axes>"
            ],
            "image/png": "[encoded data removed]"
          },
          "metadata": {}
        }
      ]
    },
    {
      "cell_type": "markdown",
      "metadata": {
        "id": "Kuuziza-KY6a"
      },
      "source": [
        "> It is typical to use powers of two for mini-batch sizes, like 8, 16, **32**, 64 or 128."
      ]
    },
    {
      "cell_type": "code",
      "metadata": {
        "id": "DF0ndcalKYrZ",
        "colab": {
          "base_uri": "https://localhost:8080/",
          "height": 499
        },
        "outputId": "a714e8a2-eff5-4e16-c978-f630115179d1"
      },
      "source": [
        "print(f'Ground-truth parameters:\\n\\t w = 2, b = 1')\n",
        "\n",
        "train_loader = DataLoader(dataset=train_data, batch_size=8, shuffle=True)\n",
        "\n",
        "lr = 0.1\n",
        "n_epochs = 125\n",
        "\n",
        "# Now we can create a model and send it at once to the device\n",
        "model = nn.Sequential(nn.Linear(1, 1)).to(device)\n",
        "\n",
        "# Defines a Stochastic Gradient Descent optimizer to update the parameters\n",
        "optimizer = optim.SGD(model.parameters(), lr=lr)\n",
        "\n",
        "# Defines a Mean squared error loss function\n",
        "loss_fn = nn.MSELoss(reduction='mean')\n",
        "\n",
        "# Creates the train_step function for our model, loss function and optimizer\n",
        "train_step = make_train_step(model, loss_fn, optimizer)\n",
        "\n",
        "losses = []\n",
        "\n",
        "for epoch in range(n_epochs):\n",
        "    mini_batch_losses = []\n",
        "    for x_batch, y_batch in train_loader:\n",
        "        x_batch = x_batch.to(device)\n",
        "        y_batch = y_batch.to(device)\n",
        "        mini_batch_loss = train_step(x_batch, y_batch)\n",
        "        mini_batch_losses.append(mini_batch_loss)\n",
        "\n",
        "    loss = np.mean(mini_batch_losses)\n",
        "    losses.append(loss)\n",
        "\n",
        "print(f'Parameters after learning:\\n\\t w = {model.state_dict()[\"0.weight\"].item()}, b = {model.state_dict()[\"0.bias\"].item()}')\n",
        "\n",
        "# Plot the graph\n",
        "plt.plot(losses, '-', label='Losses')\n",
        "plt.legend()\n",
        "plt.show()"
      ],
      "execution_count": 47,
      "outputs": [
        {
          "output_type": "stream",
          "name": "stdout",
          "text": [
            "Ground-truth parameters:\n",
            "\t w = 2, b = 1\n",
            "Parameters after learning:\n",
            "\t w = 1.9667946100234985, b = 1.0170111656188965\n"
          ]
        },
        {
          "output_type": "display_data",
          "data": {
            "text/plain": [
              "<Figure size 640x480 with 1 Axes>"
            ],
            "image/png": "[encoded data removed]"
          },
          "metadata": {}
        }
      ]
    },
    {
      "cell_type": "markdown",
      "metadata": {
        "id": "IH54bqU5K-OK"
      },
      "source": [
        "## Mini batch loop"
      ]
    },
    {
      "cell_type": "code",
      "metadata": {
        "id": "rfKT-9WcNbUC"
      },
      "source": [
        "def mini_batch_loop(device, data_loader, step):\n",
        "    mini_batch_losses = []\n",
        "    for x_batch, y_batch in data_loader:\n",
        "        x_batch = x_batch.to(device)\n",
        "        y_batch = y_batch.to(device)\n",
        "\n",
        "        mini_batch_loss = step(x_batch, y_batch)\n",
        "        mini_batch_losses.append(mini_batch_loss)\n",
        "\n",
        "    loss = np.mean(mini_batch_losses)\n",
        "    return loss"
      ],
      "execution_count": 48,
      "outputs": []
    },
    {
      "cell_type": "code",
      "metadata": {
        "id": "iI7g0u4gNjPZ",
        "colab": {
          "base_uri": "https://localhost:8080/",
          "height": 499
        },
        "outputId": "f04eeadf-a847-4658-d399-67fba401ef0f"
      },
      "source": [
        "print(f'Ground-truth parameters:\\n\\t w = 2, b = 1')\n",
        "\n",
        "train_data = TensorDataset(x_train_tensor, y_train_tensor)\n",
        "train_loader = DataLoader(dataset=train_data, batch_size=8, shuffle=True)\n",
        "\n",
        "lr = 0.1\n",
        "n_epochs = 125\n",
        "\n",
        "# Now we can create a model and send it at once to the device\n",
        "model = nn.Sequential(nn.Linear(1, 1)).to(device)\n",
        "\n",
        "# Defines a Stochastic Gradient Descent optimizer to update the parameters\n",
        "optimizer = optim.SGD(model.parameters(), lr=lr)\n",
        "\n",
        "# Defines a Mean squared error loss function\n",
        "loss_fn = nn.MSELoss(reduction='mean')\n",
        "\n",
        "# Creates the train_step function for our model, loss function and optimizer\n",
        "train_step = make_train_step(model, loss_fn, optimizer)\n",
        "\n",
        "losses = []\n",
        "\n",
        "n_epochs = 100\n",
        "\n",
        "losses = []\n",
        "\n",
        "for epoch in range(n_epochs):\n",
        "    loss = mini_batch_loop(device, train_loader, train_step)\n",
        "    losses.append(loss)\n",
        "\n",
        "print(f'Parameters after learning:\\n\\t w = {model.state_dict()[\"0.weight\"].item()}, b = {model.state_dict()[\"0.bias\"].item()}')\n",
        "\n",
        "# Plot the graph\n",
        "plt.plot(losses, '-', label='Losses')\n",
        "plt.legend()\n",
        "plt.show()"
      ],
      "execution_count": 49,
      "outputs": [
        {
          "output_type": "stream",
          "name": "stdout",
          "text": [
            "Ground-truth parameters:\n",
            "\t w = 2, b = 1\n",
            "Parameters after learning:\n",
            "\t w = 1.9702860116958618, b = 1.0240148305892944\n"
          ]
        },
        {
          "output_type": "display_data",
          "data": {
            "text/plain": [
              "<Figure size 640x480 with 1 Axes>"
            ],
            "image/png": "[encoded data removed]"
          },
          "metadata": {}
        }
      ]
    },
    {
      "cell_type": "markdown",
      "metadata": {
        "id": "zPIIEyQPNWWS"
      },
      "source": [
        "## ✍🏼 Excercise 5\n",
        "\n",
        "You can define your own Dataset classes. PyTorch gives you the freedom to pretty much do anything with the Dataset class so long as you override two of the subclass functions:\n",
        "\n",
        "* the __len__ function which returns the size of the dataset, and\n",
        "* the __getitem__ function which returns a sample from the dataset given an index.\n",
        "\n",
        "Define CustomDataset class with the same functionality as TensorDataset\n",
        "\n",
        "```python\n",
        "class CustomDataset(Dataset):\n",
        "    def __init__(self, x_tensor, y_tensor):\n",
        "        \n",
        "    def __getitem__(self, index):\n",
        "        return\n",
        "\n",
        "    def __len__(self):\n",
        "        return\n",
        "```      "
      ]
    },
    {
      "cell_type": "code",
      "metadata": {
        "id": "Yk-3XGAk9-qb",
        "colab": {
          "base_uri": "https://localhost:8080/"
        },
        "outputId": "06fa997b-4ff5-4dd3-8d3b-06f29ba25155"
      },
      "source": [
        "x_train_tensor = torch.from_numpy(x_train).float()\n",
        "y_train_tensor = torch.from_numpy(y_train).float()\n",
        "\n",
        "class CustomDataset(Dataset):\n",
        "  def __init__(self, *tensors):\n",
        "    assert all(tensors[0].size(0) == tensor.size(0) for tensor in tensors)\n",
        "    self.tensors = tensors\n",
        "\n",
        "  def __getitem__(self, index):\n",
        "    return tuple(tensor[index] for tensor in self.tensors)\n",
        "\n",
        "  def __len__(self):\n",
        "    return self.tensors[0].size(0)\n",
        "\n",
        "train_data = CustomDataset(x_train_tensor, y_train_tensor)\n",
        "print(train_data[0])\n",
        "# train_data = TensorDataset(x_train_tensor, y_train_tensor)\n",
        "# print(train_data[0])"
      ],
      "execution_count": 50,
      "outputs": [
        {
          "output_type": "stream",
          "name": "stdout",
          "text": [
            "(tensor([0.7713]), tensor([2.4745]))\n"
          ]
        }
      ]
    },
    {
      "cell_type": "markdown",
      "metadata": {
        "id": "WKdocIR1R2rr"
      },
      "source": [
        "# Part 5: Validation"
      ]
    },
    {
      "cell_type": "code",
      "metadata": {
        "id": "3h9QJHXpR-ki"
      },
      "source": [
        "def make_val_step(model, loss_fn):\n",
        "    # Builds function that performs a step in the validation loop\n",
        "    def perform_val_step(x, y):\n",
        "        # Sets model to EVAL mode\n",
        "        model.eval()\n",
        "\n",
        "        # Step 1 - Computes our model's predicted output - forward pass\n",
        "        yhat = model(x)\n",
        "        # Step 2 - Computes the loss\n",
        "        loss = loss_fn(yhat, y)\n",
        "        # There is no need to compute Steps 3 and 4, since we don't update parameters during evaluation\n",
        "        return loss.item()\n",
        "\n",
        "    return perform_val_step"
      ],
      "execution_count": 51,
      "outputs": []
    },
    {
      "cell_type": "markdown",
      "metadata": {
        "id": "U5Yx6ctyUmfD"
      },
      "source": [
        "> 🤔 What is `model.eval()` for?"
      ]
    },
    {
      "cell_type": "code",
      "metadata": {
        "id": "Ly6PD_P8SFNj",
        "colab": {
          "base_uri": "https://localhost:8080/",
          "height": 499
        },
        "outputId": "cfc53e08-e805-40d3-a023-64f66aedd3e1"
      },
      "source": [
        "print(f'Ground-truth parameters:\\n\\t w = 2, b = 1')\n",
        "\n",
        "train_data = TensorDataset(x_train_tensor, y_train_tensor)\n",
        "val_data = TensorDataset(x_val_tensor, y_val_tensor)\n",
        "train_loader = DataLoader(dataset=train_data, batch_size=8, shuffle=True)\n",
        "val_loader = DataLoader(dataset=val_data, batch_size=8, shuffle=True)\n",
        "\n",
        "lr = 0.001\n",
        "n_epochs = 400\n",
        "\n",
        "# Now we can create a model and send it at once to the device\n",
        "model = nn.Sequential(nn.Linear(1, 1)).to(device)\n",
        "\n",
        "# Defines a Stochastic Gradient Descent optimizer to update the parameters\n",
        "optimizer = optim.SGD(model.parameters(), lr=lr)\n",
        "\n",
        "# Defines a Mean squared error loss function\n",
        "loss_fn = nn.MSELoss(reduction='mean')\n",
        "\n",
        "# Creates the train_step function for our model, loss function and optimizer\n",
        "train_step = make_train_step(model, loss_fn, optimizer)\n",
        "\n",
        "# Creates the val_step function for our model and loss function\n",
        "val_step = make_val_step(model, loss_fn)\n",
        "\n",
        "losses = []\n",
        "val_losses = []\n",
        "\n",
        "for epoch in range(n_epochs):\n",
        "    loss = mini_batch_loop(device, train_loader, train_step)\n",
        "    losses.append(loss)\n",
        "\n",
        "    with torch.no_grad():\n",
        "        val_loss = mini_batch_loop(device, val_loader, val_step)\n",
        "        val_losses.append(val_loss)\n",
        "\n",
        "print(f'Parameters after learning:\\n\\t w = {model.state_dict()[\"0.weight\"].item()}, b = {model.state_dict()[\"0.bias\"].item()}')\n",
        "\n",
        "# Plot the graph\n",
        "plt.plot(losses, 'b-', label='Losses')\n",
        "plt.plot(val_losses, 'r-', label='Validation Losses')\n",
        "plt.legend()\n",
        "plt.show()"
      ],
      "execution_count": 52,
      "outputs": [
        {
          "output_type": "stream",
          "name": "stdout",
          "text": [
            "Ground-truth parameters:\n",
            "\t w = 2, b = 1\n",
            "Parameters after learning:\n",
            "\t w = 1.425169587135315, b = 1.3013672828674316\n"
          ]
        },
        {
          "output_type": "display_data",
          "data": {
            "text/plain": [
              "<Figure size 640x480 with 1 Axes>"
            ],
            "image/png": "[encoded data removed]"
          },
          "metadata": {}
        }
      ]
    },
    {
      "cell_type": "markdown",
      "metadata": {
        "id": "xpD9nLluzcsb"
      },
      "source": [
        "## ✍🏼 Excercise 6\n",
        "\n",
        "> Why are validation losses smaller in this example?\n",
        "\n",
        "I would guess that the reason would be the choice of validation data set. We do generate data, but with given: np.random.seed(42). We can set the seed value, so that the validation data fits the model better than the training data."
      ]
    },
    {
      "cell_type": "markdown",
      "metadata": {
        "id": "jwjICV_vR-XD"
      },
      "source": [
        "# Part 6: Save, load and resume"
      ]
    },
    {
      "cell_type": "markdown",
      "metadata": {
        "id": "B8v3OQbpVZBi"
      },
      "source": [
        "## Save model"
      ]
    },
    {
      "cell_type": "code",
      "metadata": {
        "id": "rMg_LiOIVQfj"
      },
      "source": [
        "checkpoint = {'epoch': n_epochs,\n",
        "              'model_state_dict': model.state_dict(),\n",
        "              'optimizer_state_dict': optimizer.state_dict(),\n",
        "              'loss': losses,\n",
        "              'val_loss': val_losses}\n",
        "\n",
        "torch.save(checkpoint, 'model_checkpoint.pth')"
      ],
      "execution_count": 53,
      "outputs": []
    },
    {
      "cell_type": "markdown",
      "metadata": {
        "id": "dPSYSgxBVcbK"
      },
      "source": [
        "## Load model and resume"
      ]
    },
    {
      "cell_type": "code",
      "metadata": {
        "id": "rU-2VwgzVoMb",
        "colab": {
          "base_uri": "https://localhost:8080/",
          "height": 465
        },
        "outputId": "5ba30bdd-3c48-4181-bd06-da5fe08dec40"
      },
      "source": [
        "checkpoint = torch.load('model_checkpoint.pth')\n",
        "\n",
        "model.load_state_dict(checkpoint['model_state_dict'])\n",
        "optimizer.load_state_dict(checkpoint['optimizer_state_dict'])\n",
        "\n",
        "saved_epoch = checkpoint['epoch']\n",
        "saved_losses = checkpoint['loss']\n",
        "saved_val_losses = checkpoint['val_loss']\n",
        "\n",
        "model.train() # always use TRAIN for resuming training\n",
        "\n",
        "losses = []\n",
        "val_losses = []\n",
        "\n",
        "lr = 0.1\n",
        "n_epochs = 400\n",
        "\n",
        "for epoch in range(n_epochs):\n",
        "    loss = mini_batch_loop(device, train_loader, train_step)\n",
        "    losses.append(loss)\n",
        "\n",
        "    with torch.no_grad():\n",
        "        val_loss = mini_batch_loop(device, val_loader, val_step)\n",
        "        val_losses.append(val_loss)\n",
        "\n",
        "print(f'Parameters after learning:\\n\\t w = {model.state_dict()[\"0.weight\"].item()}, b = {model.state_dict()[\"0.bias\"].item()}')\n",
        "\n",
        "# Plot the graph\n",
        "plt.plot(range(saved_epoch), saved_losses, 'b--', label='Checkpointed Training Loss')\n",
        "plt.plot(range(saved_epoch), saved_val_losses, 'r--', label='Checkpointed Validation Loss')\n",
        "plt.plot(range(saved_epoch,saved_epoch+n_epochs), losses, 'b-', label='Training Loss')\n",
        "plt.plot(range(saved_epoch,saved_epoch+n_epochs), val_losses, 'r-', label='Validation Loss')\n",
        "plt.legend()\n",
        "plt.show()"
      ],
      "execution_count": 54,
      "outputs": [
        {
          "output_type": "stream",
          "name": "stdout",
          "text": [
            "Parameters after learning:\n",
            "\t w = 1.671863317489624, b = 1.1753919124603271\n"
          ]
        },
        {
          "output_type": "display_data",
          "data": {
            "text/plain": [
              "<Figure size 640x480 with 1 Axes>"
            ],
            "image/png": "[encoded data removed]"
          },
          "metadata": {}
        }
      ]
    },
    {
      "cell_type": "code",
      "metadata": {
        "id": "Tr0WDN1LWgP8",
        "colab": {
          "base_uri": "https://localhost:8080/",
          "height": 430
        },
        "outputId": "0af46189-f866-44f1-c1d6-e34e0bd2927b"
      },
      "source": [
        "# Plot the graph\n",
        "predicted_train = model(x_train_tensor.to(device)).detach().cpu().numpy()\n",
        "plt.plot(x_train, y_train, 'ro', label='Train data')\n",
        "plt.plot(x_val, y_val, 'bo', label='Val data')\n",
        "plt.plot(x_train, predicted_train, label='Fitted line')\n",
        "plt.legend()\n",
        "plt.show()"
      ],
      "execution_count": 55,
      "outputs": [
        {
          "output_type": "display_data",
          "data": {
            "text/plain": [
              "<Figure size 640x480 with 1 Axes>"
            ],
            "image/png": "[encoded data removed]"
          },
          "metadata": {}
        }
      ]
    },
    {
      "cell_type": "markdown",
      "metadata": {
        "id": "8i_w1VYay1ZX"
      },
      "source": [
        "<br /><br /><br /><br /><br /><br />"
      ]
    },
    {
      "cell_type": "markdown",
      "metadata": {
        "id": "7CdGqga_qBDU"
      },
      "source": [
        "## ✍🏼 Excercise 7\n",
        "Implement Linear regression for 'S&P 500' using PyTorch\n",
        "\n",
        "<a href=\"https://cdn.lynxbroker.com/wp-content/uploads/sites/4/2018/11/SP-500-index-1.jpg\"><img src=\"https://su2.utia.cas.cz/files/labs/23-201/sap500.jpg\"></a>"
      ]
    },
    {
      "cell_type": "code",
      "metadata": {
        "colab": {
          "base_uri": "https://localhost:8080/",
          "height": 604
        },
        "id": "Q8N1eoRwzbtU",
        "outputId": "40792867-2153-46b4-a9f6-1183c42adaba"
      },
      "source": [
        "# device = 'cuda' if torch.cuda.is_available() else 'cpu'\n",
        "device = \"cpu\"\n",
        "\n",
        "# Toy 'S&P 500' dataset\n",
        "x_train = np.array([[1], [2], [3], [4], [5], [6],\n",
        "                    [7], [8], [9], [10], [11],\n",
        "                    [12], [13], [14], [15], [16], [17], [18], [19], [20]], dtype=np.float32)\n",
        "\n",
        "y_train = np.array([[3214], [2855], [2191], [2447], [2766], [2965],\n",
        "                    [3101], [3284], [3209], [3233], [3279],\n",
        "                    [3633], [3662], [3725], [3723], [3992], [4056], [4164], [4289], [4322]], dtype=np.float32)\n",
        "\n",
        "x_train_tensor = torch.as_tensor(x_train).float().to(device)\n",
        "y_train_tensor = torch.as_tensor(y_train).float().to(device)\n",
        "\n",
        "lr = 0.0068\n",
        "n_epochs = 1000\n",
        "\n",
        "# Now we can create a model and send it at once to the device\n",
        "model = nn.Linear(x_train_tensor.shape[1], y_train_tensor.shape[1])\n",
        "\n",
        "# Defines a Stochastic Gradient Descent optimizer to update the parameters\n",
        "optimizer = torch.optim.SGD(model.parameters(), lr=lr)\n",
        "\n",
        "# Defines a Mean squared error loss function\n",
        "loss_fn = nn.MSELoss()\n",
        "\n",
        "for epoch in range(n_epochs):\n",
        "    optimizer.zero_grad()\n",
        "\n",
        "    # Step 1 - Compute model's predictions\n",
        "    outputs = model(x_train_tensor)\n",
        "\n",
        "    # Step 2 - Compute the loss\n",
        "    loss = loss_fn(outputs, y_train_tensor)\n",
        "\n",
        "    # Backward pass and optimize\n",
        "    loss.backward()\n",
        "\n",
        "    # Step 3 - Compute the gradients\n",
        "\n",
        "\n",
        "    # Step 4 - Update the parameters\n",
        "    optimizer.step()\n",
        "\n",
        "\n",
        "    if (epoch+1) % 100 == 0:\n",
        "        print ('Epoch [{}/{}], Loss: {:.4f}'.format(epoch+1, n_epochs, loss.item()))\n",
        "\n",
        "# Plot the graph\n",
        "predicted = model(x_train_tensor).detach().cpu().numpy()\n",
        "plt.plot(x_train, y_train, 'ro', label='Original S&P 500')\n",
        "plt.plot(x_train, predicted, label='Fitted line')\n",
        "plt.legend()\n",
        "plt.show()"
      ],
      "execution_count": 60,
      "outputs": [
        {
          "output_type": "stream",
          "name": "stdout",
          "text": [
            "Epoch [100/1000], Loss: 778866.4375\n",
            "Epoch [200/1000], Loss: 437454.5000\n",
            "Epoch [300/1000], Loss: 257902.1562\n",
            "Epoch [400/1000], Loss: 162070.9531\n",
            "Epoch [500/1000], Loss: 110922.9766\n",
            "Epoch [600/1000], Loss: 83623.8516\n",
            "Epoch [700/1000], Loss: 69053.4844\n",
            "Epoch [800/1000], Loss: 61276.9492\n",
            "Epoch [900/1000], Loss: 57126.3438\n",
            "Epoch [1000/1000], Loss: 54911.0195\n"
          ]
        },
        {
          "output_type": "display_data",
          "data": {
            "text/plain": [
              "<Figure size 640x480 with 1 Axes>"
            ],
            "image/png": "[encoded data removed]"
          },
          "metadata": {}
        }
      ]
    },
    {
      "cell_type": "markdown",
      "metadata": {
        "id": "7TFcMjopB-6n"
      },
      "source": [
        "# Part 7: Weights & Biases\n",
        "\n",
        "<img src=\"https://su2.utia.cas.cz/files/labs/23-201/wandb1.png\"\n",
        " align=\"right\">\n",
        "\n",
        "[wandb.ai](https://wandb.ai/site)\n",
        "\n",
        "Weights & Biases is a machine learning experiment tracking, dataset versioning, and model management tool. It helps keep track of all the experiments, and makes it easy to visualize the performance of models and compare different models. Here is a simple tutorial on how to use Weights & Biases with PyTorch for a simple Linear Regression task."
      ]
    },
    {
      "cell_type": "markdown",
      "source": [
        "### 🚨🚨 Spoiler Alert 🚨🚨\n",
        "\n",
        "The provided code reveals significant parts of the solution for Exercise 7! If you're planning to tackle the exercise independently, do not proceed with the following code until you've completed Exercise 7."
      ],
      "metadata": {
        "id": "C2LyEKtgY7IS"
      }
    },
    {
      "cell_type": "code",
      "source": [
        "import torch\n",
        "import torch.nn as nn\n",
        "import torch.optim as optim\n",
        "import numpy as np\n",
        "\n",
        "def setup_data(device):\n",
        "    x_train = np.array([[1], [2], [3], [4], [5], [6], [7], [8], [9], [10], [11],\n",
        "                        [12], [13], [14], [15], [16], [17], [18], [19], [20]], dtype=np.float32)\n",
        "    y_train = np.array([[3214], [2855], [2191], [2447], [2766], [2965], [3101], [3284],\n",
        "                        [3209], [3233], [3279], [3633], [3662], [3725], [3723], [3992],\n",
        "                        [4056], [4164], [4289], [4322]], dtype=np.float32)\n",
        "\n",
        "    x_train_tensor = torch.as_tensor(x_train).float().to(device)\n",
        "    y_train_tensor = torch.as_tensor(y_train).float().to(device)\n",
        "\n",
        "    return x_train_tensor, y_train_tensor\n",
        "\n",
        "\n",
        "def setup_model(device):\n",
        "    model = nn.Linear(1, 1).to(device)\n",
        "    optimizer = torch.optim.SGD(model.parameters(), lr=0.0068)\n",
        "    loss_fn = nn.MSELoss()\n",
        "    return model, optimizer, loss_fn\n",
        "\n",
        "\n",
        "def train_model(epoch, model, optimizer, loss_fn, x_train, y_train):\n",
        "    optimizer.zero_grad()\n",
        "    loss = loss_fn(model(x_train), y_train)\n",
        "    loss.backward()\n",
        "    optimizer.step()\n",
        "    return loss"
      ],
      "metadata": {
        "id": "x1E5eQCeY6g8"
      },
      "execution_count": 57,
      "outputs": []
    },
    {
      "cell_type": "markdown",
      "source": [
        "### Wandb simple demo"
      ],
      "metadata": {
        "id": "o_nLRe2KY-PK"
      }
    },
    {
      "cell_type": "code",
      "source": [
        "!pip install wandb"
      ],
      "metadata": {
        "id": "OEG0KaBBMwxy",
        "colab": {
          "base_uri": "https://localhost:8080/"
        },
        "outputId": "c22e2a98-3f66-436e-c753-8517d43770cb"
      },
      "execution_count": 58,
      "outputs": [
        {
          "output_type": "stream",
          "name": "stdout",
          "text": [
            "Collecting wandb\n",
            "  Downloading wandb-0.15.12-py3-none-any.whl (2.1 MB)\n",
            "\u001b[2K     \u001b[90m━━━━━━━━━━━━━━━━━━━━━━━━━━━━━━━━━━━━━━━━\u001b[0m \u001b[32m2.1/2.1 MB\u001b[0m \u001b[31m11.7 MB/s\u001b[0m eta \u001b[36m0:00:00\u001b[0m\n",
            "\u001b[?25hRequirement already satisfied: Click!=8.0.0,>=7.1 in /usr/local/lib/python3.10/dist-packages (from wandb) (8.1.7)\n",
            "Collecting GitPython!=3.1.29,>=1.0.0 (from wandb)\n",
            "  Downloading GitPython-3.1.40-py3-none-any.whl (190 kB)\n",
            "\u001b[2K     \u001b[90m━━━━━━━━━━━━━━━━━━━━━━━━━━━━━━━━━━━━━━━━\u001b[0m \u001b[32m190.6/190.6 kB\u001b[0m \u001b[31m13.8 MB/s\u001b[0m eta \u001b[36m0:00:00\u001b[0m\n",
            "\u001b[?25hRequirement already satisfied: requests<3,>=2.0.0 in /usr/local/lib/python3.10/dist-packages (from wandb) (2.31.0)\n",
            "Requirement already satisfied: psutil>=5.0.0 in /usr/local/lib/python3.10/dist-packages (from wandb) (5.9.5)\n",
            "Collecting sentry-sdk>=1.0.0 (from wandb)\n",
            "  Downloading sentry_sdk-1.32.0-py2.py3-none-any.whl (240 kB)\n",
            "\u001b[2K     \u001b[90m━━━━━━━━━━━━━━━━━━━━━━━━━━━━━━━━━━━━━━━━\u001b[0m \u001b[32m241.0/241.0 kB\u001b[0m \u001b[31m17.4 MB/s\u001b[0m eta \u001b[36m0:00:00\u001b[0m\n",
            "\u001b[?25hCollecting docker-pycreds>=0.4.0 (from wandb)\n",
            "  Downloading docker_pycreds-0.4.0-py2.py3-none-any.whl (9.0 kB)\n",
            "Requirement already satisfied: PyYAML in /usr/local/lib/python3.10/dist-packages (from wandb) (6.0.1)\n",
            "Collecting pathtools (from wandb)\n",
            "  Downloading pathtools-0.1.2.tar.gz (11 kB)\n",
            "  Preparing metadata (setup.py) ... \u001b[?25l\u001b[?25hdone\n",
            "Collecting setproctitle (from wandb)\n",
            "  Downloading setproctitle-1.3.3-cp310-cp310-manylinux_2_5_x86_64.manylinux1_x86_64.manylinux_2_17_x86_64.manylinux2014_x86_64.whl (30 kB)\n",
            "Requirement already satisfied: setuptools in /usr/local/lib/python3.10/dist-packages (from wandb) (67.7.2)\n",
            "Requirement already satisfied: appdirs>=1.4.3 in /usr/local/lib/python3.10/dist-packages (from wandb) (1.4.4)\n",
            "Requirement already satisfied: protobuf!=4.21.0,<5,>=3.19.0 in /usr/local/lib/python3.10/dist-packages (from wandb) (3.20.3)\n",
            "Requirement already satisfied: six>=1.4.0 in /usr/local/lib/python3.10/dist-packages (from docker-pycreds>=0.4.0->wandb) (1.16.0)\n",
            "Collecting gitdb<5,>=4.0.1 (from GitPython!=3.1.29,>=1.0.0->wandb)\n",
            "  Downloading gitdb-4.0.11-py3-none-any.whl (62 kB)\n",
            "\u001b[2K     \u001b[90m━━━━━━━━━━━━━━━━━━━━━━━━━━━━━━━━━━━━━━━━\u001b[0m \u001b[32m62.7/62.7 kB\u001b[0m \u001b[31m8.4 MB/s\u001b[0m eta \u001b[36m0:00:00\u001b[0m\n",
            "\u001b[?25hRequirement already satisfied: charset-normalizer<4,>=2 in /usr/local/lib/python3.10/dist-packages (from requests<3,>=2.0.0->wandb) (3.3.0)\n",
            "Requirement already satisfied: idna<4,>=2.5 in /usr/local/lib/python3.10/dist-packages (from requests<3,>=2.0.0->wandb) (3.4)\n",
            "Requirement already satisfied: urllib3<3,>=1.21.1 in /usr/local/lib/python3.10/dist-packages (from requests<3,>=2.0.0->wandb) (2.0.7)\n",
            "Requirement already satisfied: certifi>=2017.4.17 in /usr/local/lib/python3.10/dist-packages (from requests<3,>=2.0.0->wandb) (2023.7.22)\n",
            "Collecting smmap<6,>=3.0.1 (from gitdb<5,>=4.0.1->GitPython!=3.1.29,>=1.0.0->wandb)\n",
            "  Downloading smmap-5.0.1-py3-none-any.whl (24 kB)\n",
            "Building wheels for collected packages: pathtools\n",
            "  Building wheel for pathtools (setup.py) ... \u001b[?25l\u001b[?25hdone\n",
            "  Created wheel for pathtools: filename=pathtools-0.1.2-py3-none-any.whl size=8791 sha256=9e2a5670a57baff4b2d9e7346a4b1e801acb8644a1ea245ce0c076f7a86ba71e\n",
            "  Stored in directory: /root/.cache/pip/wheels/e7/f3/22/152153d6eb222ee7a56ff8617d80ee5207207a8c00a7aab794\n",
            "Successfully built pathtools\n",
            "Installing collected packages: pathtools, smmap, setproctitle, sentry-sdk, docker-pycreds, gitdb, GitPython, wandb\n",
            "Successfully installed GitPython-3.1.40 docker-pycreds-0.4.0 gitdb-4.0.11 pathtools-0.1.2 sentry-sdk-1.32.0 setproctitle-1.3.3 smmap-5.0.1 wandb-0.15.12\n"
          ]
        }
      ]
    },
    {
      "cell_type": "code",
      "source": [
        "import wandb\n",
        "\n",
        "# Initialize wandb\n",
        "wandb.init(project='pytorch-wandb-demo')\n",
        "\n",
        "device = torch.device(\"cuda\" if torch.cuda.is_available() else \"cpu\")\n",
        "x_train_tensor, y_train_tensor = setup_data(device)\n",
        "model, optimizer, loss_fn = setup_model(device)\n",
        "\n",
        "for epoch in range(1000):\n",
        "    loss = train_model(epoch, model, optimizer, loss_fn, x_train_tensor, y_train_tensor)\n",
        "    wandb.log({\"loss\": loss.item()})  # Log loss to Weights and Biases\n",
        "\n",
        "torch.save(model.state_dict(), 'model.ckpt')\n",
        "wandb.save('model.ckpt')  # Save model to Weights and Biases"
      ],
      "metadata": {
        "id": "X3k0wYk1CnXQ",
        "colab": {
          "base_uri": "https://localhost:8080/",
          "height": 860
        },
        "outputId": "4d612978-1dcb-43a8-909e-805018dcd599"
      },
      "execution_count": 59,
      "outputs": [
        {
          "output_type": "display_data",
          "data": {
            "text/plain": [
              "<IPython.core.display.Javascript object>"
            ],
            "application/javascript": [
              "\n",
              "        window._wandbApiKey = new Promise((resolve, reject) => {\n",
              "            function loadScript(url) {\n",
              "            return new Promise(function(resolve, reject) {\n",
              "                let newScript = document.createElement(\"script\");\n",
              "                newScript.onerror = reject;\n",
              "                newScript.onload = resolve;\n",
              "                document.body.appendChild(newScript);\n",
              "                newScript.src = url;\n",
              "            });\n",
              "            }\n",
              "            loadScript(\"https://cdn.jsdelivr.net/npm/postmate/build/postmate.min.js\").then(() => {\n",
              "            const iframe = document.createElement('iframe')\n",
              "            iframe.style.cssText = \"width:0;height:0;border:none\"\n",
              "            document.body.appendChild(iframe)\n",
              "            const handshake = new Postmate({\n",
              "                container: iframe,\n",
              "                url: 'https://wandb.ai/authorize'\n",
              "            });\n",
              "            const timeout = setTimeout(() => reject(\"Couldn't auto authenticate\"), 5000)\n",
              "            handshake.then(function(child) {\n",
              "                child.on('authorize', data => {\n",
              "                    clearTimeout(timeout)\n",
              "                    resolve(data)\n",
              "                });\n",
              "            });\n",
              "            })\n",
              "        });\n",
              "    "
            ]
          },
          "metadata": {}
        },
        {
          "output_type": "stream",
          "name": "stderr",
          "text": [
            "\u001b[34m\u001b[1mwandb\u001b[0m: Logging into wandb.ai. (Learn how to deploy a W&B server locally: https://wandb.me/wandb-server)\n",
            "\u001b[34m\u001b[1mwandb\u001b[0m: You can find your API key in your browser here: https://wandb.ai/authorize\n",
            "wandb: Paste an API key from your profile and hit enter, or press ctrl+c to quit:\n",
            "Traceback (most recent call last):\n",
            "  File \"/usr/local/lib/python3.10/dist-packages/wandb/sdk/wandb_init.py\", line 1166, in init\n",
            "    wi.setup(kwargs)\n",
            "  File \"/usr/local/lib/python3.10/dist-packages/wandb/sdk/wandb_init.py\", line 308, in setup\n",
            "    wandb_login._login(\n",
            "  File \"/usr/local/lib/python3.10/dist-packages/wandb/sdk/wandb_login.py\", line 298, in _login\n",
            "    wlogin.prompt_api_key()\n",
            "  File \"/usr/local/lib/python3.10/dist-packages/wandb/sdk/wandb_login.py\", line 221, in prompt_api_key\n",
            "    key, status = self._prompt_api_key()\n",
            "  File \"/usr/local/lib/python3.10/dist-packages/wandb/sdk/wandb_login.py\", line 201, in _prompt_api_key\n",
            "    key = apikey.prompt_api_key(\n",
            "  File \"/usr/local/lib/python3.10/dist-packages/wandb/sdk/lib/apikey.py\", line 144, in prompt_api_key\n",
            "    key = input_callback(api_ask).strip()\n",
            "  File \"/usr/local/lib/python3.10/dist-packages/click/termui.py\", line 164, in prompt\n",
            "    value = prompt_func(prompt)\n",
            "  File \"/usr/local/lib/python3.10/dist-packages/click/termui.py\", line 147, in prompt_func\n",
            "    raise Abort() from None\n",
            "click.exceptions.Abort\n"
          ]
        },
        {
          "output_type": "error",
          "ename": "Error",
          "evalue": "ignored",
          "traceback": [
            "\u001b[0;31m---------------------------------------------------------------------------\u001b[0m",
            "\u001b[0;31mAbort\u001b[0m                                     Traceback (most recent call last)",
            "\u001b[0;32m/usr/local/lib/python3.10/dist-packages/wandb/sdk/wandb_init.py\u001b[0m in \u001b[0;36minit\u001b[0;34m(job_type, dir, config, project, entity, reinit, tags, group, name, notes, magic, config_exclude_keys, config_include_keys, anonymous, mode, allow_val_change, resume, force, tensorboard, sync_tensorboard, monitor_gym, save_code, id, settings)\u001b[0m\n\u001b[1;32m   1165\u001b[0m         \u001b[0mwi\u001b[0m \u001b[0;34m=\u001b[0m \u001b[0m_WandbInit\u001b[0m\u001b[0;34m(\u001b[0m\u001b[0;34m)\u001b[0m\u001b[0;34m\u001b[0m\u001b[0;34m\u001b[0m\u001b[0m\n\u001b[0;32m-> 1166\u001b[0;31m         \u001b[0mwi\u001b[0m\u001b[0;34m.\u001b[0m\u001b[0msetup\u001b[0m\u001b[0;34m(\u001b[0m\u001b[0mkwargs\u001b[0m\u001b[0;34m)\u001b[0m\u001b[0;34m\u001b[0m\u001b[0;34m\u001b[0m\u001b[0m\n\u001b[0m\u001b[1;32m   1167\u001b[0m         \u001b[0;32massert\u001b[0m \u001b[0mwi\u001b[0m\u001b[0;34m.\u001b[0m\u001b[0msettings\u001b[0m\u001b[0;34m\u001b[0m\u001b[0;34m\u001b[0m\u001b[0m\n",
            "\u001b[0;32m/usr/local/lib/python3.10/dist-packages/wandb/sdk/wandb_init.py\u001b[0m in \u001b[0;36msetup\u001b[0;34m(self, kwargs)\u001b[0m\n\u001b[1;32m    307\u001b[0m         \u001b[0;32mif\u001b[0m \u001b[0;32mnot\u001b[0m \u001b[0msettings\u001b[0m\u001b[0;34m.\u001b[0m\u001b[0m_offline\u001b[0m \u001b[0;32mand\u001b[0m \u001b[0;32mnot\u001b[0m \u001b[0msettings\u001b[0m\u001b[0;34m.\u001b[0m\u001b[0m_noop\u001b[0m\u001b[0;34m:\u001b[0m\u001b[0;34m\u001b[0m\u001b[0;34m\u001b[0m\u001b[0m\n\u001b[0;32m--> 308\u001b[0;31m             wandb_login._login(\n\u001b[0m\u001b[1;32m    309\u001b[0m                 \u001b[0manonymous\u001b[0m\u001b[0;34m=\u001b[0m\u001b[0mkwargs\u001b[0m\u001b[0;34m.\u001b[0m\u001b[0mpop\u001b[0m\u001b[0;34m(\u001b[0m\u001b[0;34m\"anonymous\"\u001b[0m\u001b[0;34m,\u001b[0m \u001b[0;32mNone\u001b[0m\u001b[0;34m)\u001b[0m\u001b[0;34m,\u001b[0m\u001b[0;34m\u001b[0m\u001b[0;34m\u001b[0m\u001b[0m\n",
            "\u001b[0;32m/usr/local/lib/python3.10/dist-packages/wandb/sdk/wandb_login.py\u001b[0m in \u001b[0;36m_login\u001b[0;34m(anonymous, key, relogin, host, force, timeout, _backend, _silent, _disable_warning, _entity)\u001b[0m\n\u001b[1;32m    297\u001b[0m     \u001b[0;32mif\u001b[0m \u001b[0;32mnot\u001b[0m \u001b[0mkey\u001b[0m\u001b[0;34m:\u001b[0m\u001b[0;34m\u001b[0m\u001b[0;34m\u001b[0m\u001b[0m\n\u001b[0;32m--> 298\u001b[0;31m         \u001b[0mwlogin\u001b[0m\u001b[0;34m.\u001b[0m\u001b[0mprompt_api_key\u001b[0m\u001b[0;34m(\u001b[0m\u001b[0;34m)\u001b[0m\u001b[0;34m\u001b[0m\u001b[0;34m\u001b[0m\u001b[0m\n\u001b[0m\u001b[1;32m    299\u001b[0m \u001b[0;34m\u001b[0m\u001b[0m\n",
            "\u001b[0;32m/usr/local/lib/python3.10/dist-packages/wandb/sdk/wandb_login.py\u001b[0m in \u001b[0;36mprompt_api_key\u001b[0;34m(self)\u001b[0m\n\u001b[1;32m    220\u001b[0m     \u001b[0;32mdef\u001b[0m \u001b[0mprompt_api_key\u001b[0m\u001b[0;34m(\u001b[0m\u001b[0mself\u001b[0m\u001b[0;34m)\u001b[0m\u001b[0;34m:\u001b[0m\u001b[0;34m\u001b[0m\u001b[0;34m\u001b[0m\u001b[0m\n\u001b[0;32m--> 221\u001b[0;31m         \u001b[0mkey\u001b[0m\u001b[0;34m,\u001b[0m \u001b[0mstatus\u001b[0m \u001b[0;34m=\u001b[0m \u001b[0mself\u001b[0m\u001b[0;34m.\u001b[0m\u001b[0m_prompt_api_key\u001b[0m\u001b[0;34m(\u001b[0m\u001b[0;34m)\u001b[0m\u001b[0;34m\u001b[0m\u001b[0;34m\u001b[0m\u001b[0m\n\u001b[0m\u001b[1;32m    222\u001b[0m         \u001b[0;32mif\u001b[0m \u001b[0mstatus\u001b[0m \u001b[0;34m==\u001b[0m \u001b[0mApiKeyStatus\u001b[0m\u001b[0;34m.\u001b[0m\u001b[0mNOTTY\u001b[0m\u001b[0;34m:\u001b[0m\u001b[0;34m\u001b[0m\u001b[0;34m\u001b[0m\u001b[0m\n",
            "\u001b[0;32m/usr/local/lib/python3.10/dist-packages/wandb/sdk/wandb_login.py\u001b[0m in \u001b[0;36m_prompt_api_key\u001b[0;34m(self)\u001b[0m\n\u001b[1;32m    200\u001b[0m             \u001b[0;32mtry\u001b[0m\u001b[0;34m:\u001b[0m\u001b[0;34m\u001b[0m\u001b[0;34m\u001b[0m\u001b[0m\n\u001b[0;32m--> 201\u001b[0;31m                 key = apikey.prompt_api_key(\n\u001b[0m\u001b[1;32m    202\u001b[0m                     \u001b[0mself\u001b[0m\u001b[0;34m.\u001b[0m\u001b[0m_settings\u001b[0m\u001b[0;34m,\u001b[0m\u001b[0;34m\u001b[0m\u001b[0;34m\u001b[0m\u001b[0m\n",
            "\u001b[0;32m/usr/local/lib/python3.10/dist-packages/wandb/sdk/lib/apikey.py\u001b[0m in \u001b[0;36mprompt_api_key\u001b[0;34m(settings, api, input_callback, browser_callback, no_offline, no_create, local)\u001b[0m\n\u001b[1;32m    143\u001b[0m             )\n\u001b[0;32m--> 144\u001b[0;31m             \u001b[0mkey\u001b[0m \u001b[0;34m=\u001b[0m \u001b[0minput_callback\u001b[0m\u001b[0;34m(\u001b[0m\u001b[0mapi_ask\u001b[0m\u001b[0;34m)\u001b[0m\u001b[0;34m.\u001b[0m\u001b[0mstrip\u001b[0m\u001b[0;34m(\u001b[0m\u001b[0;34m)\u001b[0m\u001b[0;34m\u001b[0m\u001b[0;34m\u001b[0m\u001b[0m\n\u001b[0m\u001b[1;32m    145\u001b[0m         \u001b[0mwrite_key\u001b[0m\u001b[0;34m(\u001b[0m\u001b[0msettings\u001b[0m\u001b[0;34m,\u001b[0m \u001b[0mkey\u001b[0m\u001b[0;34m,\u001b[0m \u001b[0mapi\u001b[0m\u001b[0;34m=\u001b[0m\u001b[0mapi\u001b[0m\u001b[0;34m)\u001b[0m\u001b[0;34m\u001b[0m\u001b[0;34m\u001b[0m\u001b[0m\n",
            "\u001b[0;32m/usr/local/lib/python3.10/dist-packages/click/termui.py\u001b[0m in \u001b[0;36mprompt\u001b[0;34m(text, default, hide_input, confirmation_prompt, type, value_proc, prompt_suffix, show_default, err, show_choices)\u001b[0m\n\u001b[1;32m    163\u001b[0m         \u001b[0;32mwhile\u001b[0m \u001b[0;32mTrue\u001b[0m\u001b[0;34m:\u001b[0m\u001b[0;34m\u001b[0m\u001b[0;34m\u001b[0m\u001b[0m\n\u001b[0;32m--> 164\u001b[0;31m             \u001b[0mvalue\u001b[0m \u001b[0;34m=\u001b[0m \u001b[0mprompt_func\u001b[0m\u001b[0;34m(\u001b[0m\u001b[0mprompt\u001b[0m\u001b[0;34m)\u001b[0m\u001b[0;34m\u001b[0m\u001b[0;34m\u001b[0m\u001b[0m\n\u001b[0m\u001b[1;32m    165\u001b[0m             \u001b[0;32mif\u001b[0m \u001b[0mvalue\u001b[0m\u001b[0;34m:\u001b[0m\u001b[0;34m\u001b[0m\u001b[0;34m\u001b[0m\u001b[0m\n",
            "\u001b[0;32m/usr/local/lib/python3.10/dist-packages/click/termui.py\u001b[0m in \u001b[0;36mprompt_func\u001b[0;34m(text)\u001b[0m\n\u001b[1;32m    146\u001b[0m                 \u001b[0mecho\u001b[0m\u001b[0;34m(\u001b[0m\u001b[0;32mNone\u001b[0m\u001b[0;34m,\u001b[0m \u001b[0merr\u001b[0m\u001b[0;34m=\u001b[0m\u001b[0merr\u001b[0m\u001b[0;34m)\u001b[0m\u001b[0;34m\u001b[0m\u001b[0;34m\u001b[0m\u001b[0m\n\u001b[0;32m--> 147\u001b[0;31m             \u001b[0;32mraise\u001b[0m \u001b[0mAbort\u001b[0m\u001b[0;34m(\u001b[0m\u001b[0;34m)\u001b[0m \u001b[0;32mfrom\u001b[0m \u001b[0;32mNone\u001b[0m\u001b[0;34m\u001b[0m\u001b[0;34m\u001b[0m\u001b[0m\n\u001b[0m\u001b[1;32m    148\u001b[0m \u001b[0;34m\u001b[0m\u001b[0m\n",
            "\u001b[0;31mAbort\u001b[0m: ",
            "\nThe above exception was the direct cause of the following exception:\n",
            "\u001b[0;31mError\u001b[0m                                     Traceback (most recent call last)",
            "\u001b[0;32m<ipython-input-59-d0d6f52d80c6>\u001b[0m in \u001b[0;36m<cell line: 4>\u001b[0;34m()\u001b[0m\n\u001b[1;32m      2\u001b[0m \u001b[0;34m\u001b[0m\u001b[0m\n\u001b[1;32m      3\u001b[0m \u001b[0;31m# Initialize wandb\u001b[0m\u001b[0;34m\u001b[0m\u001b[0;34m\u001b[0m\u001b[0m\n\u001b[0;32m----> 4\u001b[0;31m \u001b[0mwandb\u001b[0m\u001b[0;34m.\u001b[0m\u001b[0minit\u001b[0m\u001b[0;34m(\u001b[0m\u001b[0mproject\u001b[0m\u001b[0;34m=\u001b[0m\u001b[0;34m'pytorch-wandb-demo'\u001b[0m\u001b[0;34m)\u001b[0m\u001b[0;34m\u001b[0m\u001b[0;34m\u001b[0m\u001b[0m\n\u001b[0m\u001b[1;32m      5\u001b[0m \u001b[0;34m\u001b[0m\u001b[0m\n\u001b[1;32m      6\u001b[0m \u001b[0mdevice\u001b[0m \u001b[0;34m=\u001b[0m \u001b[0mtorch\u001b[0m\u001b[0;34m.\u001b[0m\u001b[0mdevice\u001b[0m\u001b[0;34m(\u001b[0m\u001b[0;34m\"cuda\"\u001b[0m \u001b[0;32mif\u001b[0m \u001b[0mtorch\u001b[0m\u001b[0;34m.\u001b[0m\u001b[0mcuda\u001b[0m\u001b[0;34m.\u001b[0m\u001b[0mis_available\u001b[0m\u001b[0;34m(\u001b[0m\u001b[0;34m)\u001b[0m \u001b[0;32melse\u001b[0m \u001b[0;34m\"cpu\"\u001b[0m\u001b[0;34m)\u001b[0m\u001b[0;34m\u001b[0m\u001b[0;34m\u001b[0m\u001b[0m\n",
            "\u001b[0;32m/usr/local/lib/python3.10/dist-packages/wandb/sdk/wandb_init.py\u001b[0m in \u001b[0;36minit\u001b[0;34m(job_type, dir, config, project, entity, reinit, tags, group, name, notes, magic, config_exclude_keys, config_include_keys, anonymous, mode, allow_val_change, resume, force, tensorboard, sync_tensorboard, monitor_gym, save_code, id, settings)\u001b[0m\n\u001b[1;32m   1206\u001b[0m                 \u001b[0mwandb\u001b[0m\u001b[0;34m.\u001b[0m\u001b[0mtermerror\u001b[0m\u001b[0;34m(\u001b[0m\u001b[0;34m\"Abnormal program exit\"\u001b[0m\u001b[0;34m)\u001b[0m\u001b[0;34m\u001b[0m\u001b[0;34m\u001b[0m\u001b[0m\n\u001b[1;32m   1207\u001b[0m                 \u001b[0mos\u001b[0m\u001b[0;34m.\u001b[0m\u001b[0m_exit\u001b[0m\u001b[0;34m(\u001b[0m\u001b[0;36m1\u001b[0m\u001b[0;34m)\u001b[0m\u001b[0;34m\u001b[0m\u001b[0;34m\u001b[0m\u001b[0m\n\u001b[0;32m-> 1208\u001b[0;31m             \u001b[0;32mraise\u001b[0m \u001b[0mError\u001b[0m\u001b[0;34m(\u001b[0m\u001b[0;34m\"An unexpected error occurred\"\u001b[0m\u001b[0;34m)\u001b[0m \u001b[0;32mfrom\u001b[0m \u001b[0merror_seen\u001b[0m\u001b[0;34m\u001b[0m\u001b[0;34m\u001b[0m\u001b[0m\n\u001b[0m\u001b[1;32m   1209\u001b[0m     \u001b[0;32mreturn\u001b[0m \u001b[0mrun\u001b[0m\u001b[0;34m\u001b[0m\u001b[0;34m\u001b[0m\u001b[0m\n",
            "\u001b[0;31mError\u001b[0m: An unexpected error occurred"
          ]
        }
      ]
    },
    {
      "cell_type": "markdown",
      "metadata": {
        "id": "2gz_cjScoHO0"
      },
      "source": [
        "# Summary\n"
      ]
    },
    {
      "cell_type": "markdown",
      "metadata": {
        "id": "-uYhsQSzY4-m"
      },
      "source": [
        "<img src=\"https://su2.utia.cas.cz/files/labs/23-201/201_recap.png\">\n"
      ]
    }
  ]
}